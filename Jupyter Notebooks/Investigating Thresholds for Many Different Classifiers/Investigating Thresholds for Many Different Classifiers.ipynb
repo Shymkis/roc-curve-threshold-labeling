{
 "cells": [
  {
   "cell_type": "markdown",
   "metadata": {},
   "source": [
    "# Packages"
   ]
  },
  {
   "cell_type": "code",
   "execution_count": 2,
   "metadata": {},
   "outputs": [],
   "source": [
    "library(mdsr)\n",
    "library(rpart)\n",
    "library(partykit)\n",
    "library(rattle)\n",
    "library(randomForest)\n",
    "library(nnet)\n",
    "library(class)\n",
    "library(e1071)\n",
    "library(ROCR)\n",
    "library(gridExtra)"
   ]
  },
  {
   "cell_type": "markdown",
   "metadata": {},
   "source": [
    "# Init "
   ]
  },
  {
   "cell_type": "code",
   "execution_count": 3,
   "metadata": {},
   "outputs": [],
   "source": [
    "census <- read.csv(\n",
    "  \"http://archive.ics.uci.edu/ml/machine-learning-databases/adult/adult.data\",\n",
    "  header = FALSE)\n",
    "names(census) <- c(\"age\", \"workclass\", \"fnlwgt\", \"education\",\n",
    "                   \"education.num\", \"marital.status\", \"occupation\", \"relationship\",\n",
    "                   \"race\", \"sex\", \"capital.gain\", \"capital.loss\", \"hours.per.week\",\n",
    "                   \"native.country\", \"income\")\n",
    "set.seed(364)\n",
    "n <- nrow(census)\n",
    "test_idx <- sample.int(n, size = round(0.2 * n))\n",
    "train <- census[-test_idx,]\n",
    "test <- census[test_idx,]\n",
    "\n",
    "form <- as.formula(\"income ~ age + workclass + education + marital.status +\n",
    "  occupation + relationship + race + sex + capital.gain + capital.loss +\n",
    "  hours.per.week\")"
   ]
  },
  {
   "cell_type": "markdown",
   "metadata": {},
   "source": [
    "# Decision Tree"
   ]
  },
  {
   "cell_type": "code",
   "execution_count": 4,
   "metadata": {},
   "outputs": [
    {
     "data": {
      "text/html": [
       "<table>\n",
       "<thead><tr><th></th><th scope=col> &lt;=50K</th><th scope=col> &gt;50K</th></tr></thead>\n",
       "<tbody>\n",
       "\t<tr><th scope=row>6724</th><td>0.7022832 </td><td>0.29771678</td></tr>\n",
       "\t<tr><th scope=row>190</th><td>0.2799435 </td><td>0.72005650</td></tr>\n",
       "\t<tr><th scope=row>30300</th><td>0.9506226 </td><td>0.04937745</td></tr>\n",
       "\t<tr><th scope=row>9395</th><td>0.9506226 </td><td>0.04937745</td></tr>\n",
       "\t<tr><th scope=row>24479</th><td>0.9506226 </td><td>0.04937745</td></tr>\n",
       "\t<tr><th scope=row>27235</th><td>0.9506226 </td><td>0.04937745</td></tr>\n",
       "</tbody>\n",
       "</table>\n"
      ],
      "text/latex": [
       "\\begin{tabular}{r|ll}\n",
       "  &  <=50K &  >50K\\\\\n",
       "\\hline\n",
       "\t6724 & 0.7022832  & 0.29771678\\\\\n",
       "\t190 & 0.2799435  & 0.72005650\\\\\n",
       "\t30300 & 0.9506226  & 0.04937745\\\\\n",
       "\t9395 & 0.9506226  & 0.04937745\\\\\n",
       "\t24479 & 0.9506226  & 0.04937745\\\\\n",
       "\t27235 & 0.9506226  & 0.04937745\\\\\n",
       "\\end{tabular}\n"
      ],
      "text/markdown": [
       "\n",
       "| <!--/--> |  <=50K |  >50K |\n",
       "|---|---|---|\n",
       "| 6724 | 0.7022832  | 0.29771678 |\n",
       "| 190 | 0.2799435  | 0.72005650 |\n",
       "| 30300 | 0.9506226  | 0.04937745 |\n",
       "| 9395 | 0.9506226  | 0.04937745 |\n",
       "| 24479 | 0.9506226  | 0.04937745 |\n",
       "| 27235 | 0.9506226  | 0.04937745 |\n",
       "\n"
      ],
      "text/plain": [
       "       <=50K     >50K     \n",
       "6724  0.7022832 0.29771678\n",
       "190   0.2799435 0.72005650\n",
       "30300 0.9506226 0.04937745\n",
       "9395  0.9506226 0.04937745\n",
       "24479 0.9506226 0.04937745\n",
       "27235 0.9506226 0.04937745"
      ]
     },
     "metadata": {},
     "output_type": "display_data"
    }
   ],
   "source": [
    "mod_tree <- rpart(form, data = train)\n",
    "income_tree_probs <- mod_tree %>% \n",
    "  predict(newdata = test, type = \"prob\") %>% \n",
    "  as.data.frame()\n",
    "income_tree_probs %>% head()"
   ]
  },
  {
   "cell_type": "markdown",
   "metadata": {},
   "source": [
    "A decision tree usually generates class labels for predictions instead of probabilities. However, we can use the probabilities from the leaf nodes of our decision tree as potential threshold values."
   ]
  },
  {
   "cell_type": "code",
   "execution_count": 5,
   "metadata": {},
   "outputs": [
    {
     "data": {
      "image/png": "[encoded data removed]",
      "text/plain": [
       "Plot with title \"\""
      ]
     },
     "metadata": {},
     "output_type": "display_data"
    }
   ],
   "source": [
    "mod_tree %>% fancyRpartPlot()"
   ]
  },
  {
   "cell_type": "markdown",
   "metadata": {},
   "source": [
    "As you can see from the tree above, our leaf node probabilities for classifiying an instance as `>50K` are 0.05, 0.96, 0.30, 0.98, and 0.72. Now, these are only five total threshold values, so our ROC curve will not look very smooth."
   ]
  },
  {
   "cell_type": "code",
   "execution_count": 8,
   "metadata": {
    "scrolled": false
   },
   "outputs": [
    {
     "data": {
      "text/html": [
       "<table>\n",
       "<thead><tr><th scope=col>fpr</th><th scope=col>tpr</th><th scope=col>cut</th></tr></thead>\n",
       "<tbody>\n",
       "\t<tr><td>0.0000000000</td><td>0.00000000  </td><td>       Inf  </td></tr>\n",
       "\t<tr><td>0.0006151323</td><td>0.07094801  </td><td>0.98263027  </td></tr>\n",
       "\t<tr><td>0.0012302645</td><td>0.10764526  </td><td>0.96470588  </td></tr>\n",
       "\t<tr><td>0.0492105803</td><td>0.51009174  </td><td>0.72005650  </td></tr>\n",
       "\t<tr><td>0.3338117695</td><td>0.89113150  </td><td>0.29771678  </td></tr>\n",
       "\t<tr><td>1.0000000000</td><td>1.00000000  </td><td>0.04937745  </td></tr>\n",
       "</tbody>\n",
       "</table>\n"
      ],
      "text/latex": [
       "\\begin{tabular}{r|lll}\n",
       " fpr & tpr & cut\\\\\n",
       "\\hline\n",
       "\t 0.0000000000 & 0.00000000   &        Inf  \\\\\n",
       "\t 0.0006151323 & 0.07094801   & 0.98263027  \\\\\n",
       "\t 0.0012302645 & 0.10764526   & 0.96470588  \\\\\n",
       "\t 0.0492105803 & 0.51009174   & 0.72005650  \\\\\n",
       "\t 0.3338117695 & 0.89113150   & 0.29771678  \\\\\n",
       "\t 1.0000000000 & 1.00000000   & 0.04937745  \\\\\n",
       "\\end{tabular}\n"
      ],
      "text/markdown": [
       "\n",
       "| fpr | tpr | cut |\n",
       "|---|---|---|\n",
       "| 0.0000000000 | 0.00000000   |        Inf   |\n",
       "| 0.0006151323 | 0.07094801   | 0.98263027   |\n",
       "| 0.0012302645 | 0.10764526   | 0.96470588   |\n",
       "| 0.0492105803 | 0.51009174   | 0.72005650   |\n",
       "| 0.3338117695 | 0.89113150   | 0.29771678   |\n",
       "| 1.0000000000 | 1.00000000   | 0.04937745   |\n",
       "\n"
      ],
      "text/plain": [
       "  fpr          tpr        cut       \n",
       "1 0.0000000000 0.00000000        Inf\n",
       "2 0.0006151323 0.07094801 0.98263027\n",
       "3 0.0012302645 0.10764526 0.96470588\n",
       "4 0.0492105803 0.51009174 0.72005650\n",
       "5 0.3338117695 0.89113150 0.29771678\n",
       "6 1.0000000000 1.00000000 0.04937745"
      ]
     },
     "metadata": {},
     "output_type": "display_data"
    }
   ],
   "source": [
    "pred_tree <- ROCR::prediction(income_tree_probs$` >50K`, test$income)\n",
    "perf_tree <- ROCR::performance(pred_tree, 'tpr', 'fpr')\n",
    "perf_tree_df <- data.frame(perf_tree@x.values, perf_tree@y.values, perf_tree@alpha.values)\n",
    "names(perf_tree_df) <- c(\"fpr\", \"tpr\", \"cut\")\n",
    "perf_tree_df"
   ]
  },
  {
   "cell_type": "markdown",
   "metadata": {},
   "source": [
    "Our ROC curve is only going to have 6 points, thus looking quite jagged."
   ]
  },
  {
   "cell_type": "code",
   "execution_count": 7,
   "metadata": {
    "scrolled": false
   },
   "outputs": [
    {
     "data": {
      "image/png": "[encoded data removed]",
      "text/plain": [
       "plot without title"
      ]
     },
     "metadata": {},
     "output_type": "display_data"
    }
   ],
   "source": [
    "roc_tree <- perf_tree_df %>% ggplot(aes(x = fpr, y = tpr, color = cut)) +\n",
    "  geom_line() + geom_abline(intercept = 0, slope = 1, lty = 3) +\n",
    "  ylab(perf_tree@y.name) + xlab(perf_tree@x.name) + ggtitle(\"Decision Tree\")\n",
    "roc_tree"
   ]
  },
  {
   "cell_type": "markdown",
   "metadata": {},
   "source": [
    "# K-Nearest Neighbors"
   ]
  },
  {
   "cell_type": "markdown",
   "metadata": {},
   "source": [
    "In order to use `knn()`, we have to first select only the quantitative variables from `train` and `test`. Then we need to obtain the proportion of winning votes for each prediction. Thus, we set `prob = TRUE`."
   ]
  },
  {
   "cell_type": "code",
   "execution_count": 10,
   "metadata": {
    "scrolled": true
   },
   "outputs": [
    {
     "data": {
      "text/html": [
       "<ol class=list-inline>\n",
       "\t<li> &lt;=50K</li>\n",
       "\t<li> &lt;=50K</li>\n",
       "\t<li> &lt;=50K</li>\n",
       "\t<li> &lt;=50K</li>\n",
       "\t<li> &lt;=50K</li>\n",
       "\t<li> &lt;=50K</li>\n",
       "\t<li> &lt;=50K</li>\n",
       "\t<li> &lt;=50K</li>\n",
       "\t<li> &lt;=50K</li>\n",
       "\t<li> &lt;=50K</li>\n",
       "\t<li> &lt;=50K</li>\n",
       "\t<li> &lt;=50K</li>\n",
       "\t<li> &lt;=50K</li>\n",
       "\t<li> &lt;=50K</li>\n",
       "\t<li> &gt;50K</li>\n",
       "</ol>\n",
       "\n",
       "<details>\n",
       "\t<summary style=display:list-item;cursor:pointer>\n",
       "\t\t<strong>Levels</strong>:\n",
       "\t</summary>\n",
       "\t<ol class=list-inline>\n",
       "\t\t<li>' &lt;=50K'</li>\n",
       "\t\t<li>' &gt;50K'</li>\n",
       "\t</ol>\n",
       "</details>"
      ],
      "text/latex": [
       "\\begin{enumerate*}\n",
       "\\item  <=50K\n",
       "\\item  <=50K\n",
       "\\item  <=50K\n",
       "\\item  <=50K\n",
       "\\item  <=50K\n",
       "\\item  <=50K\n",
       "\\item  <=50K\n",
       "\\item  <=50K\n",
       "\\item  <=50K\n",
       "\\item  <=50K\n",
       "\\item  <=50K\n",
       "\\item  <=50K\n",
       "\\item  <=50K\n",
       "\\item  <=50K\n",
       "\\item  >50K\n",
       "\\end{enumerate*}\n",
       "\n",
       "\\emph{Levels}: \\begin{enumerate*}\n",
       "\\item ' <=50K'\n",
       "\\item ' >50K'\n",
       "\\end{enumerate*}\n"
      ],
      "text/markdown": [
       "1.  &lt;=50K\n",
       "2.  &lt;=50K\n",
       "3.  &lt;=50K\n",
       "4.  &lt;=50K\n",
       "5.  &lt;=50K\n",
       "6.  &lt;=50K\n",
       "7.  &lt;=50K\n",
       "8.  &lt;=50K\n",
       "9.  &lt;=50K\n",
       "10.  &lt;=50K\n",
       "11.  &lt;=50K\n",
       "12.  &lt;=50K\n",
       "13.  &lt;=50K\n",
       "14.  &lt;=50K\n",
       "15.  &gt;50K\n",
       "\n",
       "\n",
       "\n",
       "**Levels**: 1. ' &lt;=50K'\n",
       "2. ' &gt;50K'\n",
       "\n",
       "\n"
      ],
      "text/plain": [
       " [1]  <=50K  <=50K  <=50K  <=50K  <=50K  <=50K  <=50K  <=50K  <=50K  <=50K\n",
       "[11]  <=50K  <=50K  <=50K  <=50K  >50K \n",
       "Levels:  <=50K  >50K"
      ]
     },
     "metadata": {},
     "output_type": "display_data"
    },
    {
     "data": {
      "text/html": [
       "<ol class=list-inline>\n",
       "\t<li>1</li>\n",
       "\t<li>0.7</li>\n",
       "\t<li>1</li>\n",
       "\t<li>1</li>\n",
       "\t<li>1</li>\n",
       "\t<li>1</li>\n",
       "\t<li>0.941176470588235</li>\n",
       "\t<li>0.7</li>\n",
       "\t<li>0.811764705882353</li>\n",
       "\t<li>0.948717948717949</li>\n",
       "\t<li>0.727272727272727</li>\n",
       "\t<li>0.714285714285714</li>\n",
       "\t<li>0.727272727272727</li>\n",
       "\t<li>1</li>\n",
       "\t<li>1</li>\n",
       "</ol>\n"
      ],
      "text/latex": [
       "\\begin{enumerate*}\n",
       "\\item 1\n",
       "\\item 0.7\n",
       "\\item 1\n",
       "\\item 1\n",
       "\\item 1\n",
       "\\item 1\n",
       "\\item 0.941176470588235\n",
       "\\item 0.7\n",
       "\\item 0.811764705882353\n",
       "\\item 0.948717948717949\n",
       "\\item 0.727272727272727\n",
       "\\item 0.714285714285714\n",
       "\\item 0.727272727272727\n",
       "\\item 1\n",
       "\\item 1\n",
       "\\end{enumerate*}\n"
      ],
      "text/markdown": [
       "1. 1\n",
       "2. 0.7\n",
       "3. 1\n",
       "4. 1\n",
       "5. 1\n",
       "6. 1\n",
       "7. 0.941176470588235\n",
       "8. 0.7\n",
       "9. 0.811764705882353\n",
       "10. 0.948717948717949\n",
       "11. 0.727272727272727\n",
       "12. 0.714285714285714\n",
       "13. 0.727272727272727\n",
       "14. 1\n",
       "15. 1\n",
       "\n",
       "\n"
      ],
      "text/plain": [
       " [1] 1.0000000 0.7000000 1.0000000 1.0000000 1.0000000 1.0000000 0.9411765\n",
       " [8] 0.7000000 0.8117647 0.9487179 0.7272727 0.7142857 0.7272727 1.0000000\n",
       "[15] 1.0000000"
      ]
     },
     "metadata": {},
     "output_type": "display_data"
    }
   ],
   "source": [
    "train_q <- train %>%\n",
    "  select(age, education.num, capital.gain, capital.loss, hours.per.week)\n",
    "test_q <- test %>% \n",
    "  select(age, education.num, capital.gain, capital.loss, hours.per.week)\n",
    "income_knn <- knn(train_q, test = test_q, cl = train$income, k = 10, prob = TRUE)\n",
    "income_knn %>% head(15)\n",
    "income_knn %>% attr('prob') %>% head(15)"
   ]
  },
  {
   "cell_type": "markdown",
   "metadata": {},
   "source": [
    "All the proportions returned are > 0.5. Therefore, we need to convert all proportions to reflect the proportion of votes in favor of `>50K`."
   ]
  },
  {
   "cell_type": "code",
   "execution_count": 12,
   "metadata": {},
   "outputs": [
    {
     "data": {
      "text/html": [
       "<table>\n",
       "<thead><tr><th scope=col> &gt;50K</th></tr></thead>\n",
       "<tbody>\n",
       "\t<tr><td>0.00000000</td></tr>\n",
       "\t<tr><td>0.30000000</td></tr>\n",
       "\t<tr><td>0.00000000</td></tr>\n",
       "\t<tr><td>0.00000000</td></tr>\n",
       "\t<tr><td>0.00000000</td></tr>\n",
       "\t<tr><td>0.00000000</td></tr>\n",
       "\t<tr><td>0.05882353</td></tr>\n",
       "\t<tr><td>0.30000000</td></tr>\n",
       "\t<tr><td>0.18823529</td></tr>\n",
       "\t<tr><td>0.05128205</td></tr>\n",
       "\t<tr><td>0.27272727</td></tr>\n",
       "\t<tr><td>0.28571429</td></tr>\n",
       "\t<tr><td>0.27272727</td></tr>\n",
       "\t<tr><td>0.00000000</td></tr>\n",
       "\t<tr><td>1.00000000</td></tr>\n",
       "</tbody>\n",
       "</table>\n"
      ],
      "text/latex": [
       "\\begin{tabular}{r|l}\n",
       "  >50K\\\\\n",
       "\\hline\n",
       "\t 0.00000000\\\\\n",
       "\t 0.30000000\\\\\n",
       "\t 0.00000000\\\\\n",
       "\t 0.00000000\\\\\n",
       "\t 0.00000000\\\\\n",
       "\t 0.00000000\\\\\n",
       "\t 0.05882353\\\\\n",
       "\t 0.30000000\\\\\n",
       "\t 0.18823529\\\\\n",
       "\t 0.05128205\\\\\n",
       "\t 0.27272727\\\\\n",
       "\t 0.28571429\\\\\n",
       "\t 0.27272727\\\\\n",
       "\t 0.00000000\\\\\n",
       "\t 1.00000000\\\\\n",
       "\\end{tabular}\n"
      ],
      "text/markdown": [
       "\n",
       "|  >50K |\n",
       "|---|\n",
       "| 0.00000000 |\n",
       "| 0.30000000 |\n",
       "| 0.00000000 |\n",
       "| 0.00000000 |\n",
       "| 0.00000000 |\n",
       "| 0.00000000 |\n",
       "| 0.05882353 |\n",
       "| 0.30000000 |\n",
       "| 0.18823529 |\n",
       "| 0.05128205 |\n",
       "| 0.27272727 |\n",
       "| 0.28571429 |\n",
       "| 0.27272727 |\n",
       "| 0.00000000 |\n",
       "| 1.00000000 |\n",
       "\n"
      ],
      "text/plain": [
       "    >50K     \n",
       "1  0.00000000\n",
       "2  0.30000000\n",
       "3  0.00000000\n",
       "4  0.00000000\n",
       "5  0.00000000\n",
       "6  0.00000000\n",
       "7  0.05882353\n",
       "8  0.30000000\n",
       "9  0.18823529\n",
       "10 0.05128205\n",
       "11 0.27272727\n",
       "12 0.28571429\n",
       "13 0.27272727\n",
       "14 0.00000000\n",
       "15 1.00000000"
      ]
     },
     "metadata": {},
     "output_type": "display_data"
    }
   ],
   "source": [
    "income_knn_probs <- matrix(nrow = length(income_knn), ncol = 1)\n",
    "for(i in 1:length(income_knn)) {\n",
    "  p = attr(income_knn, 'prob')[i]\n",
    "  income_knn_probs[i, 1] <- ifelse(income_knn[i] == ' >50K', p, 1 - p)\n",
    "}\n",
    "income_knn_probs <- income_knn_probs %>% as.data.frame()\n",
    "names(income_knn_probs) <- c(' >50K')\n",
    "income_knn_probs %>% head(15)"
   ]
  },
  {
   "cell_type": "markdown",
   "metadata": {},
   "source": [
    "Now that we have probabilities relative to `>50K`, we can feed them into `ROCR::prediction()` per usual."
   ]
  },
  {
   "cell_type": "code",
   "execution_count": 13,
   "metadata": {},
   "outputs": [
    {
     "data": {
      "text/html": [
       "<table>\n",
       "<thead><tr><th scope=col>fpr</th><th scope=col>tpr</th><th scope=col>cut</th></tr></thead>\n",
       "<tbody>\n",
       "\t<tr><td>0.000000000</td><td>0.0000000  </td><td>      Inf  </td></tr>\n",
       "\t<tr><td>0.001435309</td><td>0.2691131  </td><td>1.0000000  </td></tr>\n",
       "\t<tr><td>0.001435309</td><td>0.2697248  </td><td>0.9333333  </td></tr>\n",
       "\t<tr><td>0.001435309</td><td>0.2709480  </td><td>0.9285714  </td></tr>\n",
       "\t<tr><td>0.001640353</td><td>0.2727829  </td><td>0.9166667  </td></tr>\n",
       "\t<tr><td>0.002050441</td><td>0.2770642  </td><td>0.9090909  </td></tr>\n",
       "</tbody>\n",
       "</table>\n"
      ],
      "text/latex": [
       "\\begin{tabular}{r|lll}\n",
       " fpr & tpr & cut\\\\\n",
       "\\hline\n",
       "\t 0.000000000 & 0.0000000   &       Inf  \\\\\n",
       "\t 0.001435309 & 0.2691131   & 1.0000000  \\\\\n",
       "\t 0.001435309 & 0.2697248   & 0.9333333  \\\\\n",
       "\t 0.001435309 & 0.2709480   & 0.9285714  \\\\\n",
       "\t 0.001640353 & 0.2727829   & 0.9166667  \\\\\n",
       "\t 0.002050441 & 0.2770642   & 0.9090909  \\\\\n",
       "\\end{tabular}\n"
      ],
      "text/markdown": [
       "\n",
       "| fpr | tpr | cut |\n",
       "|---|---|---|\n",
       "| 0.000000000 | 0.0000000   |       Inf   |\n",
       "| 0.001435309 | 0.2691131   | 1.0000000   |\n",
       "| 0.001435309 | 0.2697248   | 0.9333333   |\n",
       "| 0.001435309 | 0.2709480   | 0.9285714   |\n",
       "| 0.001640353 | 0.2727829   | 0.9166667   |\n",
       "| 0.002050441 | 0.2770642   | 0.9090909   |\n",
       "\n"
      ],
      "text/plain": [
       "  fpr         tpr       cut      \n",
       "1 0.000000000 0.0000000       Inf\n",
       "2 0.001435309 0.2691131 1.0000000\n",
       "3 0.001435309 0.2697248 0.9333333\n",
       "4 0.001435309 0.2709480 0.9285714\n",
       "5 0.001640353 0.2727829 0.9166667\n",
       "6 0.002050441 0.2770642 0.9090909"
      ]
     },
     "metadata": {},
     "output_type": "display_data"
    }
   ],
   "source": [
    "pred_knn <- ROCR::prediction(income_knn_probs$` >50K`, test$income)\n",
    "perf_knn <- ROCR::performance(pred_knn, 'tpr', 'fpr')\n",
    "perf_knn_df <- data.frame(perf_knn@x.values, perf_knn@y.values, perf_knn@alpha.values)\n",
    "names(perf_knn_df) <- c(\"fpr\", \"tpr\", \"cut\")\n",
    "perf_knn_df %>% head()"
   ]
  },
  {
   "cell_type": "code",
   "execution_count": 14,
   "metadata": {},
   "outputs": [
    {
     "data": {
      "image/png": "[encoded data removed]",
      "text/plain": [
       "plot without title"
      ]
     },
     "metadata": {},
     "output_type": "display_data"
    }
   ],
   "source": [
    "roc_knn <- perf_knn_df %>% ggplot(aes(x = fpr, y = tpr, color = cut)) +\n",
    "  geom_line() + geom_abline(intercept = 0, slope = 1, lty = 3) +\n",
    "  ylab(perf_knn@y.name) + xlab(perf_knn@x.name) + ggtitle(\"K-Nearest Neighbors\")\n",
    "roc_knn"
   ]
  },
  {
   "cell_type": "markdown",
   "metadata": {},
   "source": [
    "An interesting feature of this ROC curve is how steep it rises initially. Even with a threshold value of 1, the true positive rate is above 0.25, and the false positive rate is nearly 0."
   ]
  },
  {
   "cell_type": "markdown",
   "metadata": {},
   "source": [
    "# Naive Bayes"
   ]
  },
  {
   "cell_type": "markdown",
   "metadata": {},
   "source": [
    "Naive Bayes can inherently return probabilities, so creating a ROC curve for it should be no problem."
   ]
  },
  {
   "cell_type": "code",
   "execution_count": 15,
   "metadata": {},
   "outputs": [
    {
     "data": {
      "text/html": [
       "<table>\n",
       "<thead><tr><th scope=col> &lt;=50K</th><th scope=col> &gt;50K</th></tr></thead>\n",
       "<tbody>\n",
       "\t<tr><td>2.433472e-06</td><td>9.999976e-01</td></tr>\n",
       "\t<tr><td>8.548025e-01</td><td>1.451975e-01</td></tr>\n",
       "\t<tr><td>9.997108e-01</td><td>2.891809e-04</td></tr>\n",
       "\t<tr><td>1.000000e+00</td><td>1.430532e-08</td></tr>\n",
       "\t<tr><td>9.999982e-01</td><td>1.754151e-06</td></tr>\n",
       "\t<tr><td>9.999944e-01</td><td>5.580988e-06</td></tr>\n",
       "</tbody>\n",
       "</table>\n"
      ],
      "text/latex": [
       "\\begin{tabular}{r|ll}\n",
       "  <=50K &  >50K\\\\\n",
       "\\hline\n",
       "\t 2.433472e-06 & 9.999976e-01\\\\\n",
       "\t 8.548025e-01 & 1.451975e-01\\\\\n",
       "\t 9.997108e-01 & 2.891809e-04\\\\\n",
       "\t 1.000000e+00 & 1.430532e-08\\\\\n",
       "\t 9.999982e-01 & 1.754151e-06\\\\\n",
       "\t 9.999944e-01 & 5.580988e-06\\\\\n",
       "\\end{tabular}\n"
      ],
      "text/markdown": [
       "\n",
       "|  <=50K |  >50K |\n",
       "|---|---|\n",
       "| 2.433472e-06 | 9.999976e-01 |\n",
       "| 8.548025e-01 | 1.451975e-01 |\n",
       "| 9.997108e-01 | 2.891809e-04 |\n",
       "| 1.000000e+00 | 1.430532e-08 |\n",
       "| 9.999982e-01 | 1.754151e-06 |\n",
       "| 9.999944e-01 | 5.580988e-06 |\n",
       "\n"
      ],
      "text/plain": [
       "   <=50K        >50K       \n",
       "1 2.433472e-06 9.999976e-01\n",
       "2 8.548025e-01 1.451975e-01\n",
       "3 9.997108e-01 2.891809e-04\n",
       "4 1.000000e+00 1.430532e-08\n",
       "5 9.999982e-01 1.754151e-06\n",
       "6 9.999944e-01 5.580988e-06"
      ]
     },
     "metadata": {},
     "output_type": "display_data"
    }
   ],
   "source": [
    "mod_nb <- naiveBayes(form, data = train)\n",
    "income_nb_probs <- mod_nb %>%\n",
    "  predict(newdata = test, type = \"raw\") %>%\n",
    "  as.data.frame()\n",
    "income_nb_probs %>% head()"
   ]
  },
  {
   "cell_type": "code",
   "execution_count": 16,
   "metadata": {},
   "outputs": [
    {
     "data": {
      "text/html": [
       "<table>\n",
       "<thead><tr><th scope=col>fpr</th><th scope=col>tpr</th><th scope=col>cut</th></tr></thead>\n",
       "<tbody>\n",
       "\t<tr><td>0.000000000</td><td>0.00000000 </td><td>Inf        </td></tr>\n",
       "\t<tr><td>0.001230265</td><td>0.08256881 </td><td>  1        </td></tr>\n",
       "\t<tr><td>0.001230265</td><td>0.08318043 </td><td>  1        </td></tr>\n",
       "\t<tr><td>0.001230265</td><td>0.08440367 </td><td>  1        </td></tr>\n",
       "\t<tr><td>0.001230265</td><td>0.08501529 </td><td>  1        </td></tr>\n",
       "\t<tr><td>0.001230265</td><td>0.08562691 </td><td>  1        </td></tr>\n",
       "</tbody>\n",
       "</table>\n"
      ],
      "text/latex": [
       "\\begin{tabular}{r|lll}\n",
       " fpr & tpr & cut\\\\\n",
       "\\hline\n",
       "\t 0.000000000 & 0.00000000  & Inf        \\\\\n",
       "\t 0.001230265 & 0.08256881  &   1        \\\\\n",
       "\t 0.001230265 & 0.08318043  &   1        \\\\\n",
       "\t 0.001230265 & 0.08440367  &   1        \\\\\n",
       "\t 0.001230265 & 0.08501529  &   1        \\\\\n",
       "\t 0.001230265 & 0.08562691  &   1        \\\\\n",
       "\\end{tabular}\n"
      ],
      "text/markdown": [
       "\n",
       "| fpr | tpr | cut |\n",
       "|---|---|---|\n",
       "| 0.000000000 | 0.00000000  | Inf         |\n",
       "| 0.001230265 | 0.08256881  |   1         |\n",
       "| 0.001230265 | 0.08318043  |   1         |\n",
       "| 0.001230265 | 0.08440367  |   1         |\n",
       "| 0.001230265 | 0.08501529  |   1         |\n",
       "| 0.001230265 | 0.08562691  |   1         |\n",
       "\n"
      ],
      "text/plain": [
       "  fpr         tpr        cut\n",
       "1 0.000000000 0.00000000 Inf\n",
       "2 0.001230265 0.08256881   1\n",
       "3 0.001230265 0.08318043   1\n",
       "4 0.001230265 0.08440367   1\n",
       "5 0.001230265 0.08501529   1\n",
       "6 0.001230265 0.08562691   1"
      ]
     },
     "metadata": {},
     "output_type": "display_data"
    }
   ],
   "source": [
    "pred_nb <- ROCR::prediction(income_nb_probs$` >50K`, test$income)\n",
    "perf_nb <- ROCR::performance(pred_nb, 'tpr', 'fpr')\n",
    "perf_nb_df <- data.frame(perf_nb@x.values, perf_nb@y.values, perf_nb@alpha.values)\n",
    "names(perf_nb_df) <- c(\"fpr\", \"tpr\", \"cut\")\n",
    "perf_nb_df %>% head()"
   ]
  },
  {
   "cell_type": "code",
   "execution_count": 17,
   "metadata": {},
   "outputs": [
    {
     "data": {
      "image/png": "[encoded data removed]",
      "text/plain": [
       "plot without title"
      ]
     },
     "metadata": {},
     "output_type": "display_data"
    }
   ],
   "source": [
    "roc_nb <- perf_nb_df %>% ggplot(aes(x = fpr, y = tpr, color = cut)) +\n",
    "  geom_line() + geom_abline(intercept = 0, slope = 1, lty = 3) +\n",
    "  ylab(perf_nb@y.name) + xlab(perf_nb@x.name) + ggtitle(\"Naive Bayes\")\n",
    "roc_nb"
   ]
  },
  {
   "cell_type": "markdown",
   "metadata": {},
   "source": [
    "# Neural Network"
   ]
  },
  {
   "cell_type": "markdown",
   "metadata": {},
   "source": [
    "Like Naive Bayes, Neural Network can also inherently return probabilities."
   ]
  },
  {
   "cell_type": "code",
   "execution_count": 24,
   "metadata": {},
   "outputs": [
    {
     "name": "stdout",
     "output_type": "stream",
     "text": [
      "# weights:  296\n",
      "initial  value 15739.672367 \n",
      "iter  10 value 13157.181646\n",
      "iter  20 value 12366.646243\n",
      "iter  30 value 9635.947516\n",
      "iter  40 value 8922.598554\n",
      "iter  50 value 8601.879992\n",
      "iter  60 value 8509.959694\n",
      "iter  70 value 8453.548378\n",
      "iter  80 value 8404.202767\n",
      "iter  90 value 8335.532215\n",
      "iter 100 value 8301.633302\n",
      "final  value 8301.633302 \n",
      "stopped after 100 iterations\n"
     ]
    },
    {
     "data": {
      "text/html": [
       "<table>\n",
       "<thead><tr><th></th><th scope=col>V1</th></tr></thead>\n",
       "<tbody>\n",
       "\t<tr><th scope=row>6724</th><td>0.577938784</td></tr>\n",
       "\t<tr><th scope=row>190</th><td>0.637188478</td></tr>\n",
       "\t<tr><th scope=row>30300</th><td>0.008737639</td></tr>\n",
       "\t<tr><th scope=row>9395</th><td>0.001932969</td></tr>\n",
       "\t<tr><th scope=row>24479</th><td>0.003995120</td></tr>\n",
       "\t<tr><th scope=row>27235</th><td>0.004749456</td></tr>\n",
       "</tbody>\n",
       "</table>\n"
      ],
      "text/latex": [
       "\\begin{tabular}{r|l}\n",
       "  & V1\\\\\n",
       "\\hline\n",
       "\t6724 & 0.577938784\\\\\n",
       "\t190 & 0.637188478\\\\\n",
       "\t30300 & 0.008737639\\\\\n",
       "\t9395 & 0.001932969\\\\\n",
       "\t24479 & 0.003995120\\\\\n",
       "\t27235 & 0.004749456\\\\\n",
       "\\end{tabular}\n"
      ],
      "text/markdown": [
       "\n",
       "| <!--/--> | V1 |\n",
       "|---|---|\n",
       "| 6724 | 0.577938784 |\n",
       "| 190 | 0.637188478 |\n",
       "| 30300 | 0.008737639 |\n",
       "| 9395 | 0.001932969 |\n",
       "| 24479 | 0.003995120 |\n",
       "| 27235 | 0.004749456 |\n",
       "\n"
      ],
      "text/plain": [
       "      V1         \n",
       "6724  0.577938784\n",
       "190   0.637188478\n",
       "30300 0.008737639\n",
       "9395  0.001932969\n",
       "24479 0.003995120\n",
       "27235 0.004749456"
      ]
     },
     "metadata": {},
     "output_type": "display_data"
    }
   ],
   "source": [
    "mod_nn <- nnet(form, data = train, size = 5)\n",
    "income_nn_probs <- mod_nn %>% \n",
    "  predict(newdata = test, type = \"raw\") %>% \n",
    "  as.data.frame()\n",
    "income_nn_probs %>% head()"
   ]
  },
  {
   "cell_type": "code",
   "execution_count": 25,
   "metadata": {},
   "outputs": [
    {
     "data": {
      "text/html": [
       "<table>\n",
       "<thead><tr><th scope=col>fpr</th><th scope=col>tpr</th><th scope=col>cut</th></tr></thead>\n",
       "<tbody>\n",
       "\t<tr><td>0           </td><td>0.0000000000</td><td>      Inf   </td></tr>\n",
       "\t<tr><td>0           </td><td>0.0006116208</td><td>0.9875903   </td></tr>\n",
       "\t<tr><td>0           </td><td>0.0012232416</td><td>0.9875902   </td></tr>\n",
       "\t<tr><td>0           </td><td>0.0018348624</td><td>0.9875902   </td></tr>\n",
       "\t<tr><td>0           </td><td>0.0024464832</td><td>0.9875901   </td></tr>\n",
       "\t<tr><td>0           </td><td>0.0036697248</td><td>0.9875900   </td></tr>\n",
       "</tbody>\n",
       "</table>\n"
      ],
      "text/latex": [
       "\\begin{tabular}{r|lll}\n",
       " fpr & tpr & cut\\\\\n",
       "\\hline\n",
       "\t 0            & 0.0000000000 &       Inf   \\\\\n",
       "\t 0            & 0.0006116208 & 0.9875903   \\\\\n",
       "\t 0            & 0.0012232416 & 0.9875902   \\\\\n",
       "\t 0            & 0.0018348624 & 0.9875902   \\\\\n",
       "\t 0            & 0.0024464832 & 0.9875901   \\\\\n",
       "\t 0            & 0.0036697248 & 0.9875900   \\\\\n",
       "\\end{tabular}\n"
      ],
      "text/markdown": [
       "\n",
       "| fpr | tpr | cut |\n",
       "|---|---|---|\n",
       "| 0            | 0.0000000000 |       Inf    |\n",
       "| 0            | 0.0006116208 | 0.9875903    |\n",
       "| 0            | 0.0012232416 | 0.9875902    |\n",
       "| 0            | 0.0018348624 | 0.9875902    |\n",
       "| 0            | 0.0024464832 | 0.9875901    |\n",
       "| 0            | 0.0036697248 | 0.9875900    |\n",
       "\n"
      ],
      "text/plain": [
       "  fpr tpr          cut      \n",
       "1 0   0.0000000000       Inf\n",
       "2 0   0.0006116208 0.9875903\n",
       "3 0   0.0012232416 0.9875902\n",
       "4 0   0.0018348624 0.9875902\n",
       "5 0   0.0024464832 0.9875901\n",
       "6 0   0.0036697248 0.9875900"
      ]
     },
     "metadata": {},
     "output_type": "display_data"
    }
   ],
   "source": [
    "pred_nn <- ROCR::prediction(income_nn_probs$V1, test$income)\n",
    "perf_nn <- ROCR::performance(pred_nn, 'tpr', 'fpr')\n",
    "perf_nn_df <- data.frame(perf_nn@x.values, perf_nn@y.values, perf_nn@alpha.values)\n",
    "names(perf_nn_df) <- c(\"fpr\", \"tpr\", \"cut\")\n",
    "perf_nn_df %>% head()"
   ]
  },
  {
   "cell_type": "code",
   "execution_count": 26,
   "metadata": {},
   "outputs": [
    {
     "data": {
      "image/png": "[encoded data removed]",
      "text/plain": [
       "plot without title"
      ]
     },
     "metadata": {},
     "output_type": "display_data"
    }
   ],
   "source": [
    "roc_nn <- perf_nn_df %>% ggplot(aes(x = fpr, y = tpr, color = cut)) +\n",
    "  geom_line() + geom_abline(intercept = 0, slope = 1, lty = 3) +\n",
    "  ylab(perf_nn@y.name) + xlab(perf_nn@x.name) + ggtitle(\"Neural Network\")\n",
    "roc_nn"
   ]
  },
  {
   "cell_type": "markdown",
   "metadata": {},
   "source": [
    "# Null Model"
   ]
  },
  {
   "cell_type": "markdown",
   "metadata": {},
   "source": [
    "The null model ROC curve should simply be a line from (0,0) to (1,1)."
   ]
  },
  {
   "cell_type": "code",
   "execution_count": 27,
   "metadata": {},
   "outputs": [
    {
     "data": {
      "text/html": [
       "<table>\n",
       "<thead><tr><th></th><th scope=col>.</th></tr></thead>\n",
       "<tbody>\n",
       "\t<tr><th scope=row>6724</th><td>0.2382433</td></tr>\n",
       "\t<tr><th scope=row>190</th><td>0.2382433</td></tr>\n",
       "\t<tr><th scope=row>30300</th><td>0.2382433</td></tr>\n",
       "\t<tr><th scope=row>9395</th><td>0.2382433</td></tr>\n",
       "\t<tr><th scope=row>24479</th><td>0.2382433</td></tr>\n",
       "\t<tr><th scope=row>27235</th><td>0.2382433</td></tr>\n",
       "</tbody>\n",
       "</table>\n"
      ],
      "text/latex": [
       "\\begin{tabular}{r|l}\n",
       "  & .\\\\\n",
       "\\hline\n",
       "\t6724 & 0.2382433\\\\\n",
       "\t190 & 0.2382433\\\\\n",
       "\t30300 & 0.2382433\\\\\n",
       "\t9395 & 0.2382433\\\\\n",
       "\t24479 & 0.2382433\\\\\n",
       "\t27235 & 0.2382433\\\\\n",
       "\\end{tabular}\n"
      ],
      "text/markdown": [
       "\n",
       "| <!--/--> | . |\n",
       "|---|---|\n",
       "| 6724 | 0.2382433 |\n",
       "| 190 | 0.2382433 |\n",
       "| 30300 | 0.2382433 |\n",
       "| 9395 | 0.2382433 |\n",
       "| 24479 | 0.2382433 |\n",
       "| 27235 | 0.2382433 |\n",
       "\n"
      ],
      "text/plain": [
       "      .        \n",
       "6724  0.2382433\n",
       "190   0.2382433\n",
       "30300 0.2382433\n",
       "9395  0.2382433\n",
       "24479 0.2382433\n",
       "27235 0.2382433"
      ]
     },
     "metadata": {},
     "output_type": "display_data"
    }
   ],
   "source": [
    "mod_null <- glm(income ~ 1, data = train, family = binomial)\n",
    "income_null_probs <- mod_null %>% \n",
    "  predict(newdata = test, type = \"response\") %>% \n",
    "  as.data.frame()\n",
    "income_null_probs %>% head()"
   ]
  },
  {
   "cell_type": "code",
   "execution_count": 28,
   "metadata": {},
   "outputs": [
    {
     "data": {
      "text/html": [
       "<table>\n",
       "<thead><tr><th scope=col>fpr</th><th scope=col>tpr</th><th scope=col>cut</th></tr></thead>\n",
       "<tbody>\n",
       "\t<tr><td>0        </td><td>0        </td><td>      Inf</td></tr>\n",
       "\t<tr><td>1        </td><td>1        </td><td>0.2382433</td></tr>\n",
       "</tbody>\n",
       "</table>\n"
      ],
      "text/latex": [
       "\\begin{tabular}{r|lll}\n",
       " fpr & tpr & cut\\\\\n",
       "\\hline\n",
       "\t 0         & 0         &       Inf\\\\\n",
       "\t 1         & 1         & 0.2382433\\\\\n",
       "\\end{tabular}\n"
      ],
      "text/markdown": [
       "\n",
       "| fpr | tpr | cut |\n",
       "|---|---|---|\n",
       "| 0         | 0         |       Inf |\n",
       "| 1         | 1         | 0.2382433 |\n",
       "\n"
      ],
      "text/plain": [
       "  fpr tpr cut      \n",
       "1 0   0         Inf\n",
       "2 1   1   0.2382433"
      ]
     },
     "metadata": {},
     "output_type": "display_data"
    }
   ],
   "source": [
    "pred_null <- ROCR::prediction(income_null_probs$., test$income)\n",
    "perf_null <- ROCR::performance(pred_null, 'tpr', 'fpr')\n",
    "perf_null_df <- data.frame(perf_null@x.values, perf_null@y.values, perf_null@alpha.values)\n",
    "names(perf_null_df) <- c(\"fpr\", \"tpr\", \"cut\")\n",
    "perf_null_df %>% head()"
   ]
  },
  {
   "cell_type": "markdown",
   "metadata": {},
   "source": [
    "This value of 0.24 simply implies that ~24% of the training data were instances with `>50K` income."
   ]
  },
  {
   "cell_type": "code",
   "execution_count": 30,
   "metadata": {
    "scrolled": false
   },
   "outputs": [
    {
     "data": {
      "image/png": "[encoded data removed]",
      "text/plain": [
       "plot without title"
      ]
     },
     "metadata": {},
     "output_type": "display_data"
    }
   ],
   "source": [
    "roc_null <- perf_null_df %>% ggplot(aes(x = fpr, y = tpr, color = cut)) +\n",
    "  geom_line() + geom_abline(intercept = 0, slope = 1, lty = 3) +\n",
    "  ylab(perf_null@y.name) + xlab(perf_null@x.name) + ggtitle(\"Null Model\")\n",
    "roc_null"
   ]
  },
  {
   "cell_type": "markdown",
   "metadata": {},
   "source": [
    "# Random Forest"
   ]
  },
  {
   "cell_type": "markdown",
   "metadata": {},
   "source": [
    "Random Forest is quite similar to the Decision Tree model in terms of obtaining probabilities for thresholds. However, the resulting ROC curve should be significantly smoother since there are many more trees and thus many more leaf node probabilities."
   ]
  },
  {
   "cell_type": "code",
   "execution_count": 31,
   "metadata": {},
   "outputs": [
    {
     "data": {
      "text/html": [
       "<table>\n",
       "<thead><tr><th></th><th scope=col> &lt;=50K</th><th scope=col> &gt;50K</th></tr></thead>\n",
       "<tbody>\n",
       "\t<tr><th scope=row>6724</th><td>0.8258706</td><td>0.1741294</td></tr>\n",
       "\t<tr><th scope=row>190</th><td>0.7164179</td><td>0.2835821</td></tr>\n",
       "\t<tr><th scope=row>30300</th><td>0.9800995</td><td>0.0199005</td></tr>\n",
       "\t<tr><th scope=row>9395</th><td>1.0000000</td><td>0.0000000</td></tr>\n",
       "\t<tr><th scope=row>24479</th><td>1.0000000</td><td>0.0000000</td></tr>\n",
       "\t<tr><th scope=row>27235</th><td>1.0000000</td><td>0.0000000</td></tr>\n",
       "</tbody>\n",
       "</table>\n"
      ],
      "text/latex": [
       "\\begin{tabular}{r|ll}\n",
       "  &  <=50K &  >50K\\\\\n",
       "\\hline\n",
       "\t6724 & 0.8258706 & 0.1741294\\\\\n",
       "\t190 & 0.7164179 & 0.2835821\\\\\n",
       "\t30300 & 0.9800995 & 0.0199005\\\\\n",
       "\t9395 & 1.0000000 & 0.0000000\\\\\n",
       "\t24479 & 1.0000000 & 0.0000000\\\\\n",
       "\t27235 & 1.0000000 & 0.0000000\\\\\n",
       "\\end{tabular}\n"
      ],
      "text/markdown": [
       "\n",
       "| <!--/--> |  <=50K |  >50K |\n",
       "|---|---|---|\n",
       "| 6724 | 0.8258706 | 0.1741294 |\n",
       "| 190 | 0.7164179 | 0.2835821 |\n",
       "| 30300 | 0.9800995 | 0.0199005 |\n",
       "| 9395 | 1.0000000 | 0.0000000 |\n",
       "| 24479 | 1.0000000 | 0.0000000 |\n",
       "| 27235 | 1.0000000 | 0.0000000 |\n",
       "\n"
      ],
      "text/plain": [
       "       <=50K     >50K    \n",
       "6724  0.8258706 0.1741294\n",
       "190   0.7164179 0.2835821\n",
       "30300 0.9800995 0.0199005\n",
       "9395  1.0000000 0.0000000\n",
       "24479 1.0000000 0.0000000\n",
       "27235 1.0000000 0.0000000"
      ]
     },
     "metadata": {},
     "output_type": "display_data"
    }
   ],
   "source": [
    "mod_forest <- randomForest(form, data = train, ntree = 201, mtry = 3)\n",
    "income_forest_probs <- mod_forest %>% \n",
    "  predict(newdata = test, type = \"prob\") %>% \n",
    "  as.data.frame()\n",
    "income_forest_probs %>% head()"
   ]
  },
  {
   "cell_type": "code",
   "execution_count": 32,
   "metadata": {},
   "outputs": [
    {
     "data": {
      "text/html": [
       "<table>\n",
       "<thead><tr><th scope=col>fpr</th><th scope=col>tpr</th><th scope=col>cut</th></tr></thead>\n",
       "<tbody>\n",
       "\t<tr><td>0.0000000000</td><td>0.00000000  </td><td>      Inf   </td></tr>\n",
       "\t<tr><td>0.0006151323</td><td>0.06788991  </td><td>1.0000000   </td></tr>\n",
       "\t<tr><td>0.0012302645</td><td>0.11009174  </td><td>0.9950249   </td></tr>\n",
       "\t<tr><td>0.0016403527</td><td>0.14189602  </td><td>0.9900498   </td></tr>\n",
       "\t<tr><td>0.0024605290</td><td>0.15718654  </td><td>0.9850746   </td></tr>\n",
       "\t<tr><td>0.0028706172</td><td>0.17370031  </td><td>0.9800995   </td></tr>\n",
       "</tbody>\n",
       "</table>\n"
      ],
      "text/latex": [
       "\\begin{tabular}{r|lll}\n",
       " fpr & tpr & cut\\\\\n",
       "\\hline\n",
       "\t 0.0000000000 & 0.00000000   &       Inf   \\\\\n",
       "\t 0.0006151323 & 0.06788991   & 1.0000000   \\\\\n",
       "\t 0.0012302645 & 0.11009174   & 0.9950249   \\\\\n",
       "\t 0.0016403527 & 0.14189602   & 0.9900498   \\\\\n",
       "\t 0.0024605290 & 0.15718654   & 0.9850746   \\\\\n",
       "\t 0.0028706172 & 0.17370031   & 0.9800995   \\\\\n",
       "\\end{tabular}\n"
      ],
      "text/markdown": [
       "\n",
       "| fpr | tpr | cut |\n",
       "|---|---|---|\n",
       "| 0.0000000000 | 0.00000000   |       Inf    |\n",
       "| 0.0006151323 | 0.06788991   | 1.0000000    |\n",
       "| 0.0012302645 | 0.11009174   | 0.9950249    |\n",
       "| 0.0016403527 | 0.14189602   | 0.9900498    |\n",
       "| 0.0024605290 | 0.15718654   | 0.9850746    |\n",
       "| 0.0028706172 | 0.17370031   | 0.9800995    |\n",
       "\n"
      ],
      "text/plain": [
       "  fpr          tpr        cut      \n",
       "1 0.0000000000 0.00000000       Inf\n",
       "2 0.0006151323 0.06788991 1.0000000\n",
       "3 0.0012302645 0.11009174 0.9950249\n",
       "4 0.0016403527 0.14189602 0.9900498\n",
       "5 0.0024605290 0.15718654 0.9850746\n",
       "6 0.0028706172 0.17370031 0.9800995"
      ]
     },
     "metadata": {},
     "output_type": "display_data"
    }
   ],
   "source": [
    "pred_forest <- ROCR::prediction(income_forest_probs$` >50K`, test$income)\n",
    "perf_forest <- ROCR::performance(pred_forest, 'tpr', 'fpr')\n",
    "perf_forest_df <- data.frame(perf_forest@x.values, perf_forest@y.values, perf_forest@alpha.values)\n",
    "names(perf_forest_df) <- c(\"fpr\", \"tpr\", \"cut\")\n",
    "perf_forest_df %>% head()"
   ]
  },
  {
   "cell_type": "code",
   "execution_count": 33,
   "metadata": {},
   "outputs": [
    {
     "data": {
      "image/png": "[encoded data removed]",
      "text/plain": [
       "plot without title"
      ]
     },
     "metadata": {},
     "output_type": "display_data"
    }
   ],
   "source": [
    "roc_forest <- perf_forest_df %>% ggplot(aes(x = fpr, y = tpr, color = cut)) +\n",
    "  geom_line() + geom_abline(intercept = 0, slope = 1, lty = 3) +\n",
    "  ylab(perf_forest@y.name) + xlab(perf_forest@x.name) + ggtitle(\"Random Forest\")\n",
    "roc_forest"
   ]
  },
  {
   "cell_type": "markdown",
   "metadata": {},
   "source": [
    "Note that this is not only smoother than the Decision Tree ROC curve, but also outperforms every other model nearly every time on this training and testing data. (Sometimes Neural Network's curve surpasses Random Forest's curve.)"
   ]
  },
  {
   "cell_type": "markdown",
   "metadata": {},
   "source": [
    "# Graphing All Models"
   ]
  },
  {
   "cell_type": "code",
   "execution_count": 34,
   "metadata": {
    "scrolled": false
   },
   "outputs": [
    {
     "data": {
      "image/png": "[encoded data removed]",
      "text/plain": [
       "plot without title"
      ]
     },
     "metadata": {},
     "output_type": "display_data"
    }
   ],
   "source": [
    "grid.arrange(roc_forest, roc_knn, roc_nb, roc_nn, roc_null, roc_tree)"
   ]
  },
  {
   "cell_type": "markdown",
   "metadata": {},
   "source": [
    "Above are all the previous ROC curves placed side by side with their threshold gradients applied."
   ]
  },
  {
   "cell_type": "code",
   "execution_count": 35,
   "metadata": {},
   "outputs": [
    {
     "data": {
      "image/png": "[encoded data removed]",
      "text/plain": [
       "plot without title"
      ]
     },
     "metadata": {},
     "output_type": "display_data"
    }
   ],
   "source": [
    "ggplot() + \n",
    "  geom_line(data = perf_tree_df, aes(x = fpr, y = tpr), color = \"red\") + \n",
    "  geom_line(data = perf_knn_df, aes(x = fpr, y = tpr), color = \"orange\") + \n",
    "  geom_line(data = perf_nb_df, aes(x = fpr, y = tpr), color = \"green\") + \n",
    "  geom_line(data = perf_nn_df, aes(x = fpr, y = tpr), color = \"blue\") + \n",
    "  geom_line(data = perf_null_df, aes(x = fpr, y = tpr), color = \"purple\") + \n",
    "  geom_line(data = perf_forest_df, aes(x = fpr, y = tpr), color = \"black\")"
   ]
  },
  {
   "cell_type": "markdown",
   "metadata": {},
   "source": [
    "Apologies for the lack of a legend:  \n",
    "Red = Decision Tree  \n",
    "Orange = K-Nearest Neighbors  \n",
    "Green = Naive Bayes  \n",
    "Blue = Neural Network  \n",
    "Purple = Null Model  \n",
    "Black = Random Forest  \n",
    "  \n",
    "As you can see, Random Forest and Neural Network are the top performers."
   ]
  }
 ],
 "metadata": {
  "kernelspec": {
   "display_name": "R",
   "language": "R",
   "name": "ir"
  },
  "language_info": {
   "codemirror_mode": "r",
   "file_extension": ".r",
   "mimetype": "text/x-r-source",
   "name": "R",
   "pygments_lexer": "r",
   "version": "3.6.1"
  }
 },
 "nbformat": 4,
 "nbformat_minor": 4
}
