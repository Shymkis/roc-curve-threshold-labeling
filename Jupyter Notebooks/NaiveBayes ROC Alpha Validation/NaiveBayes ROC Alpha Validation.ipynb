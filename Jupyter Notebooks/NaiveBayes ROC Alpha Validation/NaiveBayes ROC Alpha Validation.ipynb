{
 "cells": [
  {
   "cell_type": "markdown",
   "metadata": {},
   "source": [
    "# Init"
   ]
  },
  {
   "cell_type": "code",
   "execution_count": 11,
   "metadata": {},
   "outputs": [],
   "source": [
    "library(mdsr)\n",
    "library(e1071)\n",
    "library(ROCR)\n",
    "library(pROC)\n",
    "library(gridExtra)"
   ]
  },
  {
   "cell_type": "markdown",
   "metadata": {},
   "source": [
    "# Datasets"
   ]
  },
  {
   "cell_type": "code",
   "execution_count": 2,
   "metadata": {},
   "outputs": [
    {
     "name": "stdout",
     "output_type": "stream",
     "text": [
      "Observations: 32,561\n",
      "Variables: 15\n",
      "$ age            <int> 39, 50, 38, 53, 28, 37, 49, 52, 31, 42, 37, 30, 23, ...\n",
      "$ workclass      <fct>  State-gov,  Self-emp-not-inc,  Private,  Private,  ...\n",
      "$ fnlwgt         <int> 77516, 83311, 215646, 234721, 338409, 284582, 160187...\n",
      "$ education      <fct>  Bachelors,  Bachelors,  HS-grad,  11th,  Bachelors,...\n",
      "$ education.num  <int> 13, 13, 9, 7, 13, 14, 5, 9, 14, 13, 10, 13, 13, 12, ...\n",
      "$ marital.status <fct>  Never-married,  Married-civ-spouse,  Divorced,  Mar...\n",
      "$ occupation     <fct>  Adm-clerical,  Exec-managerial,  Handlers-cleaners,...\n",
      "$ relationship   <fct>  Not-in-family,  Husband,  Not-in-family,  Husband, ...\n",
      "$ race           <fct>  White,  White,  White,  Black,  Black,  White,  Bla...\n",
      "$ sex            <fct>  Male,  Male,  Male,  Male,  Female,  Female,  Femal...\n",
      "$ capital.gain   <int> 2174, 0, 0, 0, 0, 0, 0, 0, 14084, 5178, 0, 0, 0, 0, ...\n",
      "$ capital.loss   <int> 0, 0, 0, 0, 0, 0, 0, 0, 0, 0, 0, 0, 0, 0, 0, 0, 0, 0...\n",
      "$ hours.per.week <int> 40, 13, 40, 40, 40, 40, 16, 45, 50, 40, 80, 40, 30, ...\n",
      "$ native.country <fct>  United-States,  United-States,  United-States,  Uni...\n",
      "$ income         <fct>  <=50K,  <=50K,  <=50K,  <=50K,  <=50K,  <=50K,  <=5...\n"
     ]
    }
   ],
   "source": [
    "census <- read.csv(\n",
    "  \"http://archive.ics.uci.edu/ml/machine-learning-databases/adult/adult.data\",\n",
    "  header = FALSE)\n",
    "names(census) <- c(\"age\", \"workclass\", \"fnlwgt\", \"education\",\n",
    "                   \"education.num\", \"marital.status\", \"occupation\", \"relationship\",\n",
    "                   \"race\", \"sex\", \"capital.gain\", \"capital.loss\", \"hours.per.week\",\n",
    "                   \"native.country\", \"income\")\n",
    "glimpse(census)"
   ]
  },
  {
   "cell_type": "code",
   "execution_count": 3,
   "metadata": {
    "scrolled": false
   },
   "outputs": [
    {
     "data": {
      "text/html": [
       "26049"
      ],
      "text/latex": [
       "26049"
      ],
      "text/markdown": [
       "26049"
      ],
      "text/plain": [
       "[1] 26049"
      ]
     },
     "metadata": {},
     "output_type": "display_data"
    },
    {
     "data": {
      "text/html": [
       "6512"
      ],
      "text/latex": [
       "6512"
      ],
      "text/markdown": [
       "6512"
      ],
      "text/plain": [
       "[1] 6512"
      ]
     },
     "metadata": {},
     "output_type": "display_data"
    }
   ],
   "source": [
    "set.seed(364)\n",
    "n <- nrow(census)\n",
    "test_idx <- sample.int(n, size = round(0.2 * n))\n",
    "train <- census[-test_idx,]\n",
    "nrow(train)\n",
    "\n",
    "test <- census[test_idx,]\n",
    "nrow(test)"
   ]
  },
  {
   "cell_type": "markdown",
   "metadata": {},
   "source": [
    "# Naive Bayes"
   ]
  },
  {
   "cell_type": "code",
   "execution_count": 4,
   "metadata": {},
   "outputs": [
    {
     "data": {
      "text/plain": [
       "         income\n",
       "income_nb  <=50K  >50K\n",
       "    <=50K  18724  3591\n",
       "    >50K    1119  2615"
      ]
     },
     "metadata": {},
     "output_type": "display_data"
    },
    {
     "data": {
      "text/html": [
       "0.819186916964183"
      ],
      "text/latex": [
       "0.819186916964183"
      ],
      "text/markdown": [
       "0.819186916964183"
      ],
      "text/plain": [
       "[1] 0.8191869"
      ]
     },
     "metadata": {},
     "output_type": "display_data"
    }
   ],
   "source": [
    "form <- as.formula(\"income ~ age + workclass + education + marital.status +\n",
    "  occupation + relationship + race + sex + capital.gain + capital.loss +\n",
    "  hours.per.week\")\n",
    "\n",
    "mod_nb <- naiveBayes(form, data = train)\n",
    "income_nb <- predict(mod_nb, newdata = train)\n",
    "confusion <- tally(income_nb ~ income, data = train, format = \"count\")\n",
    "confusion\n",
    "\n",
    "sum(diag(confusion)) / nrow(train)"
   ]
  },
  {
   "cell_type": "markdown",
   "metadata": {},
   "source": [
    "This means that the accuracy of the predictions was 81.9% using the normal `predict.naiveBayes` function."
   ]
  },
  {
   "cell_type": "code",
   "execution_count": 5,
   "metadata": {},
   "outputs": [
    {
     "data": {
      "text/html": [
       "<table>\n",
       "<thead><tr><th scope=col> &lt;=50K</th><th scope=col> &gt;50K</th></tr></thead>\n",
       "<tbody>\n",
       "\t<tr><td>0.9879029   </td><td>0.0120971199</td></tr>\n",
       "\t<tr><td>0.8560991   </td><td>0.1439009065</td></tr>\n",
       "\t<tr><td>0.9997610   </td><td>0.0002390345</td></tr>\n",
       "</tbody>\n",
       "</table>\n"
      ],
      "text/latex": [
       "\\begin{tabular}{r|ll}\n",
       "  <=50K &  >50K\\\\\n",
       "\\hline\n",
       "\t 0.9879029    & 0.0120971199\\\\\n",
       "\t 0.8560991    & 0.1439009065\\\\\n",
       "\t 0.9997610    & 0.0002390345\\\\\n",
       "\\end{tabular}\n"
      ],
      "text/markdown": [
       "\n",
       "|  <=50K |  >50K |\n",
       "|---|---|\n",
       "| 0.9879029    | 0.0120971199 |\n",
       "| 0.8560991    | 0.1439009065 |\n",
       "| 0.9997610    | 0.0002390345 |\n",
       "\n"
      ],
      "text/plain": [
       "   <=50K     >50K       \n",
       "1 0.9879029 0.0120971199\n",
       "2 0.8560991 0.1439009065\n",
       "3 0.9997610 0.0002390345"
      ]
     },
     "metadata": {},
     "output_type": "display_data"
    },
    {
     "data": {
      "text/html": [
       "<ol class=list-inline>\n",
       "\t<li>' &lt;=50K'</li>\n",
       "\t<li>' &gt;50K'</li>\n",
       "</ol>\n"
      ],
      "text/latex": [
       "\\begin{enumerate*}\n",
       "\\item ' <=50K'\n",
       "\\item ' >50K'\n",
       "\\end{enumerate*}\n"
      ],
      "text/markdown": [
       "1. ' &lt;=50K'\n",
       "2. ' &gt;50K'\n",
       "\n",
       "\n"
      ],
      "text/plain": [
       "[1] \" <=50K\" \" >50K\" "
      ]
     },
     "metadata": {},
     "output_type": "display_data"
    },
    {
     "data": {
      "text/plain": [
       "` >50K` > 0.5\n",
       "    TRUE    FALSE \n",
       "14.33452 85.66548 "
      ]
     },
     "metadata": {},
     "output_type": "display_data"
    },
    {
     "data": {
      "text/plain": [
       "` >50K` > 0.24\n",
       "    TRUE    FALSE \n",
       "19.31744 80.68256 "
      ]
     },
     "metadata": {},
     "output_type": "display_data"
    }
   ],
   "source": [
    "income_probs <- mod_nb %>%\n",
    "  predict(newdata = train, type = \"raw\") %>%\n",
    "  as.data.frame()\n",
    "head(income_probs, 3)\n",
    "\n",
    "names(income_probs)\n",
    "\n",
    "tally(~` >50K` > 0.5, data = income_probs, format = \"percent\")\n",
    "\n",
    "tally(~` >50K` > 0.24, data = income_probs, format = \"percent\")"
   ]
  },
  {
   "cell_type": "markdown",
   "metadata": {},
   "source": [
    "The `tally` functions demonstrate the idea of thresholds. 0.5 and 0.24 are two different thresholds for predicting whether an individual makes more than 50K a year or not. `predict.naiveBayes` uses a default threshold of 0.5. However, setting `type = raw` returns the probabilities, allowing us to set our own thresholds."
   ]
  },
  {
   "cell_type": "code",
   "execution_count": 6,
   "metadata": {
    "scrolled": true
   },
   "outputs": [
    {
     "data": {
      "text/html": [
       "'performance'"
      ],
      "text/latex": [
       "'performance'"
      ],
      "text/markdown": [
       "'performance'"
      ],
      "text/plain": [
       "[1] \"performance\"\n",
       "attr(,\"package\")\n",
       "[1] \"ROCR\""
      ]
     },
     "metadata": {},
     "output_type": "display_data"
    },
    {
     "name": "stdout",
     "output_type": "stream",
     "text": [
      "Formal class 'performance' [package \"ROCR\"] with 6 slots\n",
      "  ..@ x.name      : chr \"False positive rate\"\n",
      "  ..@ y.name      : chr \"True positive rate\"\n",
      "  ..@ alpha.name  : chr \"Cutoff\"\n",
      "  ..@ x.values    :List of 1\n",
      "  .. ..$ : num [1:22314] 0 0.000706 0.000706 0.000706 0.000706 ...\n",
      "  ..@ y.values    :List of 1\n",
      "  .. ..$ : num [1:22314] 0 0.079 0.0802 0.0814 0.082 ...\n",
      "  ..@ alpha.values:List of 1\n",
      "  .. ..$ : num [1:22314] Inf 1 1 1 1 ...\n"
     ]
    }
   ],
   "source": [
    "pred <- ROCR::prediction(income_probs[, 2], train$income)\n",
    "perf <- ROCR::performance(pred, 'tpr', 'fpr')\n",
    "class(perf)\n",
    "str(perf)"
   ]
  },
  {
   "cell_type": "markdown",
   "metadata": {},
   "source": [
    "The alpha values from above are of interest. I want to know if they are what the `prediction` and `performance` objects use to construct the ROC curve."
   ]
  },
  {
   "cell_type": "code",
   "execution_count": 7,
   "metadata": {},
   "outputs": [
    {
     "data": {
      "image/png": "[encoded data removed]",
      "text/plain": [
       "plot without title"
      ]
     },
     "metadata": {},
     "output_type": "display_data"
    }
   ],
   "source": [
    "perf_df <- data.frame(perf@x.values, perf@y.values, perf@alpha.values)\n",
    "names(perf_df) <- c(\"fpr\", \"tpr\", \"cut\")\n",
    "roc <- perf_df %>% ggplot(aes(x = fpr, y = tpr, color = cut)) +\n",
    "  geom_line() + geom_abline(intercept = 0, slope = 1, lty = 3) +\n",
    "  ylab(perf@y.name) + xlab(perf@x.name)\n",
    "\n",
    "tpr <- confusion[\" >50K\", \" >50K\"] / sum(confusion[, \" >50K\"])\n",
    "fpr <- confusion[\" >50K\", \" <=50K\"] / sum(confusion[, \" <=50K\"])\n",
    "roc + geom_point(x = fpr, y = tpr, size = 3)"
   ]
  },
  {
   "cell_type": "markdown",
   "metadata": {},
   "source": [
    "The alpha values are demonstrated by the gradient of the line. The enlarged point on the graph represents the TPR, FPR, and alpha value from the default `predict.naiveBayes` function, whose result was stored in `income_nb`."
   ]
  },
  {
   "cell_type": "markdown",
   "metadata": {},
   "source": [
    "# Comparing ROC Curves"
   ]
  },
  {
   "cell_type": "markdown",
   "metadata": {},
   "source": [
    "This block iterates 1000 times over the raw probabilities generated in `income_probs` and uses different threshold (cut) values to make the predictions. The threshold values are evenly spaced between 0 and 1, exclusive. Then the threshold value, accuracy, TPR, and FPR are stored in a matrix (which is converted to a data frame)."
   ]
  },
  {
   "cell_type": "code",
   "execution_count": 8,
   "metadata": {
    "scrolled": false
   },
   "outputs": [
    {
     "data": {
      "image/png": "[encoded data removed]",
      "text/plain": [
       "plot without title"
      ]
     },
     "metadata": {},
     "output_type": "display_data"
    }
   ],
   "source": [
    "iter <- 1000\n",
    "cut_matrix <- matrix(nrow = iter, ncol = 4)\n",
    "for(k in 1:iter) {\n",
    "  income_nb_cut <- ifelse(income_probs$` >50K` > k/(iter + 1), \" >50K\", \" <=50K\") %>% as.factor()\n",
    "\n",
    "  confusion <- tally(income_nb_cut ~ income, data = train, format = \"count\")\n",
    "  \n",
    "  tpr <- confusion[\" >50K\", \" >50K\"] / sum(confusion[, \" >50K\"])\n",
    "  fpr <- confusion[\" >50K\", \" <=50K\"] / sum(confusion[, \" <=50K\"])\n",
    "\n",
    "  cut_matrix[k, 1] <- k/(iter + 1)\n",
    "  cut_matrix[k, 2] <- sum(diag(confusion)) / nrow(train)\n",
    "  cut_matrix[k, 3] <- tpr\n",
    "  cut_matrix[k, 4] <- fpr\n",
    "}\n",
    "cut_df <- cut_matrix %>% as.data.frame()\n",
    "names(cut_df) <- c(\"cut\", \"accuracy\", \"tpr\", \"fpr\")\n",
    "\n",
    "pairs(cut_df, pch = 19)"
   ]
  },
  {
   "cell_type": "markdown",
   "metadata": {},
   "source": [
    "Really, the only important scatterplots above are *accuracy vs. cut* and *tpr vs. fpr*."
   ]
  },
  {
   "cell_type": "code",
   "execution_count": 9,
   "metadata": {},
   "outputs": [
    {
     "data": {
      "text/html": [
       "0.255744255744256"
      ],
      "text/latex": [
       "0.255744255744256"
      ],
      "text/markdown": [
       "0.255744255744256"
      ],
      "text/plain": [
       "[1] 0.2557443"
      ]
     },
     "metadata": {},
     "output_type": "display_data"
    },
    {
     "data": {
      "text/html": [
       "0.829206495450881"
      ],
      "text/latex": [
       "0.829206495450881"
      ],
      "text/markdown": [
       "0.829206495450881"
      ],
      "text/plain": [
       "[1] 0.8292065"
      ]
     },
     "metadata": {},
     "output_type": "display_data"
    },
    {
     "data": {
      "text/plain": [
       "             income\n",
       "income_nb_cut  <=50K  >50K\n",
       "        <=50K  18258  2864\n",
       "        >50K    1585  3342"
      ]
     },
     "metadata": {},
     "output_type": "display_data"
    }
   ],
   "source": [
    "(best_cut <- cut_df %>% top_n(1, accuracy) %>% select(cut) %>% as.numeric())\n",
    "(best_acc <- cut_df %>% top_n(1, accuracy) %>% select(accuracy) %>% as.numeric())\n",
    "\n",
    "income_nb_cut <- ifelse(income_probs$` >50K` > best_cut, \" >50K\", \" <=50K\") %>% as.factor()\n",
    "\n",
    "confusion <- tally(income_nb_cut ~ income, data = train, format = \"count\")\n",
    "confusion"
   ]
  },
  {
   "cell_type": "markdown",
   "metadata": {},
   "source": [
    "The best threshold value (the one that optimizes accuracy), occurs at 0.256, and it generates an accuracy of 82.9%, higher than the 81.9% from earlier."
   ]
  },
  {
   "cell_type": "code",
   "execution_count": 10,
   "metadata": {},
   "outputs": [
    {
     "data": {
      "image/png": "[encoded data removed]",
      "text/plain": [
       "plot without title"
      ]
     },
     "metadata": {},
     "output_type": "display_data"
    }
   ],
   "source": [
    "tpr <- confusion[\" >50K\", \" >50K\"] / sum(confusion[, \" >50K\"])\n",
    "fpr <- confusion[\" >50K\", \" <=50K\"] / sum(confusion[, \" <=50K\"])\n",
    "roc1 <- perf_df %>% filter(cut >= 1/(iter + 1) & cut <= iter/(iter + 1)) %>% \n",
    "  ggplot(aes(x = fpr, y = tpr, color = cut)) +\n",
    "  geom_line() + geom_abline(intercept = 0, slope = 1, lty = 3) +\n",
    "  ylab(perf@y.name) + xlab(perf@x.name) +\n",
    "  geom_point(x = fpr, y = tpr, size = 3, color = \"black\")\n",
    "roc2 <- cut_df %>% ggplot(aes(x = fpr, y = tpr, color = cut)) +\n",
    "  geom_line() + geom_abline(intercept = 0, slope = 1, lty = 3) +\n",
    "  ylab(perf@y.name) + xlab(perf@x.name) +\n",
    "  geom_point(x = fpr, y = tpr, size = 3, color = \"black\")\n",
    "\n",
    "roc3 <- perf_df %>% filter(cut >= 1/(iter + 1) & cut <= iter/(iter + 1)) %>% \n",
    "  ggplot(aes(x = cut, y = tpr)) +\n",
    "  geom_line() + ylab(perf@y.name) + xlab(perf@alpha.name)\n",
    "roc4 <- cut_df %>% ggplot(aes(x = cut, y = tpr)) +\n",
    "  geom_line() + ylab(perf@y.name) + xlab(perf@alpha.name)\n",
    "\n",
    "roc5 <- perf_df %>% filter(cut >= 1/(iter + 1) & cut <= iter/(iter + 1)) %>% \n",
    "  ggplot(aes(x = cut, y = fpr)) +\n",
    "  geom_line() + ylab(perf@x.name) + xlab(perf@alpha.name)\n",
    "roc6 <- cut_df %>% ggplot(aes(x = cut, y = fpr)) +\n",
    "  geom_line() + ylab(perf@x.name) + xlab(perf@alpha.name)\n",
    "\n",
    "grid.arrange(roc1, roc2, roc3, roc4, roc5, roc6)"
   ]
  },
  {
   "cell_type": "markdown",
   "metadata": {},
   "source": [
    "The left column of graphs were generated using the `@x.values`, `@y.values`, and `@alpha.values` from the `performance` object. The right column was generated using the values from the `for` loop from earlier. It's apparent that the cutoff/alpha values in the `performance` object represents the threshold values as we know it for Naive Bayes. The enlarged point on the first two graphs was calculated using the best threshold value from before."
   ]
  }
 ],
 "metadata": {
  "kernelspec": {
   "display_name": "R",
   "language": "R",
   "name": "ir"
  },
  "language_info": {
   "codemirror_mode": "r",
   "file_extension": ".r",
   "mimetype": "text/x-r-source",
   "name": "R",
   "pygments_lexer": "r",
   "version": "3.6.1"
  }
 },
 "nbformat": 4,
 "nbformat_minor": 4
}
