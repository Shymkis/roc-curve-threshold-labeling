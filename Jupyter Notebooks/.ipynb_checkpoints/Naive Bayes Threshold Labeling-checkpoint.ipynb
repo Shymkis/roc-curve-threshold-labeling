{
 "cells": [
  {
   "cell_type": "code",
   "execution_count": 8,
   "metadata": {},
   "outputs": [],
   "source": [
    "library(e1071)\n",
    "library(plotly)\n",
    "library(ROCR)"
   ]
  },
  {
   "cell_type": "code",
   "execution_count": 5,
   "metadata": {},
   "outputs": [],
   "source": [
    "census <- read.csv(\n",
    "  \"http://archive.ics.uci.edu/ml/machine-learning-databases/adult/adult.data\",\n",
    "  header = FALSE)\n",
    "names(census) <- c(\"age\", \"workclass\", \"fnlwgt\", \"education\",\n",
    "                   \"education.num\", \"marital.status\", \"occupation\", \"relationship\",\n",
    "                   \"race\", \"sex\", \"capital.gain\", \"capital.loss\", \"hours.per.week\",\n",
    "                   \"native.country\", \"income\")\n",
    "set.seed(364)\n",
    "n <- nrow(census)\n",
    "test_idx <- sample.int(n, size = round(0.2 * n))\n",
    "train <- census[-test_idx,]\n",
    "test <- census[test_idx,]"
   ]
  },
  {
   "cell_type": "code",
   "execution_count": 9,
   "metadata": {},
   "outputs": [],
   "source": [
    "form <- as.formula(\"income ~ age + workclass + education + marital.status +\n",
    "  occupation + relationship + race + sex + capital.gain + capital.loss +\n",
    "  hours.per.week\")\n",
    "mod_nb <- naiveBayes(form, data = train)\n",
    "income_probs <- mod_nb %>%\n",
    "  predict(newdata = train, type = \"raw\") %>%\n",
    "  as.data.frame()"
   ]
  },
  {
   "cell_type": "code",
   "execution_count": null,
   "metadata": {},
   "outputs": [],
   "source": [
    "pred <- ROCR::prediction(income_probs[, 2], train$income)\n",
    "perf <- ROCR::performance(pred, 'tpr', 'fpr')\n",
    "perf_df <- data.frame(perf@x.values, perf@y.values, perf@alpha.values)\n",
    "names(perf_df) <- c(\"fpr\", \"tpr\", \"cut\")\n",
    "roc <- perf_df %>% ggplot(aes(x = fpr, y = tpr, z = cut)) +\n",
    "  geom_line() + geom_abline(intercept = 0, slope = 1, lty = 3) +\n",
    "  ylab(perf@y.name) + xlab(perf@x.name)\n",
    "roc %>% ggplotly(tooltip = \"z\") %>% as_widget()"
   ]
  }
 ],
 "metadata": {
  "kernelspec": {
   "display_name": "R",
   "language": "R",
   "name": "ir"
  },
  "language_info": {
   "codemirror_mode": "r",
   "file_extension": ".r",
   "mimetype": "text/x-r-source",
   "name": "R",
   "pygments_lexer": "r",
   "version": "3.6.1"
  }
 },
 "nbformat": 4,
 "nbformat_minor": 4
}
