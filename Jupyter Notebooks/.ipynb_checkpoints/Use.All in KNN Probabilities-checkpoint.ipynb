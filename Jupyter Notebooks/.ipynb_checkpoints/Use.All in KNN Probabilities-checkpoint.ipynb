{
 "cells": [
  {
   "cell_type": "markdown",
   "metadata": {},
   "source": [
    "# Packages"
   ]
  },
  {
   "cell_type": "code",
   "execution_count": 2,
   "metadata": {},
   "outputs": [],
   "source": [
    "library(mdsr)\n",
    "library(class)\n",
    "library(ROCR)\n",
    "library(gridExtra)"
   ]
  },
  {
   "cell_type": "markdown",
   "metadata": {},
   "source": [
    "# Init"
   ]
  },
  {
   "cell_type": "code",
   "execution_count": 3,
   "metadata": {},
   "outputs": [],
   "source": [
    "census <- read.csv(\n",
    "  \"http://archive.ics.uci.edu/ml/machine-learning-databases/adult/adult.data\",\n",
    "  header = FALSE)\n",
    "names(census) <- c(\"age\", \"workclass\", \"fnlwgt\", \"education\",\n",
    "                   \"education.num\", \"marital.status\", \"occupation\", \"relationship\",\n",
    "                   \"race\", \"sex\", \"capital.gain\", \"capital.loss\", \"hours.per.week\",\n",
    "                   \"native.country\", \"income\")\n",
    "set.seed(364)\n",
    "n <- nrow(census)\n",
    "test_idx <- sample.int(n, size = round(0.2 * n))\n",
    "train <- census[-test_idx,]\n",
    "test <- census[test_idx,]\n",
    "\n",
    "form <- as.formula(\"income ~ age + workclass + education + marital.status +\n",
    "  occupation + relationship + race + sex + capital.gain + capital.loss +\n",
    "  hours.per.week\")\n",
    "\n",
    "train_q <- train %>%\n",
    "  select(age, education.num, capital.gain, capital.loss, hours.per.week)\n",
    "test_q <- test %>% \n",
    "  select(age, education.num, capital.gain, capital.loss, hours.per.week)"
   ]
  },
  {
   "cell_type": "markdown",
   "metadata": {},
   "source": [
    "# Use.All = TRUE"
   ]
  },
  {
   "cell_type": "markdown",
   "metadata": {},
   "source": [
    "`use.all` is used to determine how to deal with ties."
   ]
  },
  {
   "cell_type": "markdown",
   "metadata": {},
   "source": [
    "`knn` documentation on `use.all = TRUE`: \"If true, all distances equal to the kth largest are included.\""
   ]
  },
  {
   "cell_type": "markdown",
   "metadata": {},
   "source": [
    "Thus, fractions other than n/k will be present."
   ]
  },
  {
   "cell_type": "code",
   "execution_count": 5,
   "metadata": {},
   "outputs": [
    {
     "data": {
      "text/html": [
       "<table>\n",
       "<thead><tr><th scope=col> &gt;50K</th></tr></thead>\n",
       "<tbody>\n",
       "\t<tr><td>0.00000000</td></tr>\n",
       "\t<tr><td>0.30000000</td></tr>\n",
       "\t<tr><td>0.00000000</td></tr>\n",
       "\t<tr><td>0.00000000</td></tr>\n",
       "\t<tr><td>0.00000000</td></tr>\n",
       "\t<tr><td>0.00000000</td></tr>\n",
       "\t<tr><td>0.05882353</td></tr>\n",
       "\t<tr><td>0.30000000</td></tr>\n",
       "\t<tr><td>0.18823529</td></tr>\n",
       "\t<tr><td>0.05128205</td></tr>\n",
       "\t<tr><td>0.27272727</td></tr>\n",
       "\t<tr><td>0.28571429</td></tr>\n",
       "\t<tr><td>0.27272727</td></tr>\n",
       "\t<tr><td>0.00000000</td></tr>\n",
       "\t<tr><td>1.00000000</td></tr>\n",
       "</tbody>\n",
       "</table>\n"
      ],
      "text/latex": [
       "\\begin{tabular}{r|l}\n",
       "  >50K\\\\\n",
       "\\hline\n",
       "\t 0.00000000\\\\\n",
       "\t 0.30000000\\\\\n",
       "\t 0.00000000\\\\\n",
       "\t 0.00000000\\\\\n",
       "\t 0.00000000\\\\\n",
       "\t 0.00000000\\\\\n",
       "\t 0.05882353\\\\\n",
       "\t 0.30000000\\\\\n",
       "\t 0.18823529\\\\\n",
       "\t 0.05128205\\\\\n",
       "\t 0.27272727\\\\\n",
       "\t 0.28571429\\\\\n",
       "\t 0.27272727\\\\\n",
       "\t 0.00000000\\\\\n",
       "\t 1.00000000\\\\\n",
       "\\end{tabular}\n"
      ],
      "text/markdown": [
       "\n",
       "|  >50K |\n",
       "|---|\n",
       "| 0.00000000 |\n",
       "| 0.30000000 |\n",
       "| 0.00000000 |\n",
       "| 0.00000000 |\n",
       "| 0.00000000 |\n",
       "| 0.00000000 |\n",
       "| 0.05882353 |\n",
       "| 0.30000000 |\n",
       "| 0.18823529 |\n",
       "| 0.05128205 |\n",
       "| 0.27272727 |\n",
       "| 0.28571429 |\n",
       "| 0.27272727 |\n",
       "| 0.00000000 |\n",
       "| 1.00000000 |\n",
       "\n"
      ],
      "text/plain": [
       "    >50K     \n",
       "1  0.00000000\n",
       "2  0.30000000\n",
       "3  0.00000000\n",
       "4  0.00000000\n",
       "5  0.00000000\n",
       "6  0.00000000\n",
       "7  0.05882353\n",
       "8  0.30000000\n",
       "9  0.18823529\n",
       "10 0.05128205\n",
       "11 0.27272727\n",
       "12 0.28571429\n",
       "13 0.27272727\n",
       "14 0.00000000\n",
       "15 1.00000000"
      ]
     },
     "metadata": {},
     "output_type": "display_data"
    }
   ],
   "source": [
    "income_true <- knn(train_q, test = test_q, cl = train$income, k = 10, prob = TRUE, use.all = TRUE)\n",
    "\n",
    "income_true_probs <- matrix(nrow = length(income_true), ncol = 1)\n",
    "for(i in 1:length(income_true)) {\n",
    "  p = attr(income_true, 'prob')[i]\n",
    "  income_true_probs[i, 1] <- ifelse(income_true[i] == ' >50K', p, 1 - p)\n",
    "}\n",
    "income_true_probs <- income_true_probs %>% as.data.frame()\n",
    "names(income_true_probs) <- c(' >50K')\n",
    "\n",
    "income_true_probs %>% head(15)"
   ]
  },
  {
   "cell_type": "code",
   "execution_count": 7,
   "metadata": {},
   "outputs": [
    {
     "data": {
      "text/html": [
       "<table>\n",
       "<thead><tr><th scope=col>fpr</th><th scope=col>tpr</th><th scope=col>cut</th></tr></thead>\n",
       "<tbody>\n",
       "\t<tr><td>0.000000000</td><td>0.0000000  </td><td>      Inf  </td></tr>\n",
       "\t<tr><td>0.001435309</td><td>0.2691131  </td><td>1.0000000  </td></tr>\n",
       "\t<tr><td>0.001435309</td><td>0.2697248  </td><td>0.9333333  </td></tr>\n",
       "\t<tr><td>0.001435309</td><td>0.2709480  </td><td>0.9285714  </td></tr>\n",
       "\t<tr><td>0.001640353</td><td>0.2727829  </td><td>0.9166667  </td></tr>\n",
       "\t<tr><td>0.002050441</td><td>0.2770642  </td><td>0.9090909  </td></tr>\n",
       "\t<tr><td>0.002665573</td><td>0.2917431  </td><td>0.9000000  </td></tr>\n",
       "\t<tr><td>0.002665573</td><td>0.2923547  </td><td>0.8666667  </td></tr>\n",
       "\t<tr><td>0.003075661</td><td>0.2929664  </td><td>0.8571429  </td></tr>\n",
       "\t<tr><td>0.003075661</td><td>0.2941896  </td><td>0.8461538  </td></tr>\n",
       "\t<tr><td>0.003075661</td><td>0.2948012  </td><td>0.8387097  </td></tr>\n",
       "\t<tr><td>0.003075661</td><td>0.2960245  </td><td>0.8333333  </td></tr>\n",
       "\t<tr><td>0.003485749</td><td>0.2990826  </td><td>0.8181818  </td></tr>\n",
       "\t<tr><td>0.003485749</td><td>0.2996942  </td><td>0.8148148  </td></tr>\n",
       "\t<tr><td>0.003485749</td><td>0.3009174  </td><td>0.8125000  </td></tr>\n",
       "</tbody>\n",
       "</table>\n"
      ],
      "text/latex": [
       "\\begin{tabular}{r|lll}\n",
       " fpr & tpr & cut\\\\\n",
       "\\hline\n",
       "\t 0.000000000 & 0.0000000   &       Inf  \\\\\n",
       "\t 0.001435309 & 0.2691131   & 1.0000000  \\\\\n",
       "\t 0.001435309 & 0.2697248   & 0.9333333  \\\\\n",
       "\t 0.001435309 & 0.2709480   & 0.9285714  \\\\\n",
       "\t 0.001640353 & 0.2727829   & 0.9166667  \\\\\n",
       "\t 0.002050441 & 0.2770642   & 0.9090909  \\\\\n",
       "\t 0.002665573 & 0.2917431   & 0.9000000  \\\\\n",
       "\t 0.002665573 & 0.2923547   & 0.8666667  \\\\\n",
       "\t 0.003075661 & 0.2929664   & 0.8571429  \\\\\n",
       "\t 0.003075661 & 0.2941896   & 0.8461538  \\\\\n",
       "\t 0.003075661 & 0.2948012   & 0.8387097  \\\\\n",
       "\t 0.003075661 & 0.2960245   & 0.8333333  \\\\\n",
       "\t 0.003485749 & 0.2990826   & 0.8181818  \\\\\n",
       "\t 0.003485749 & 0.2996942   & 0.8148148  \\\\\n",
       "\t 0.003485749 & 0.3009174   & 0.8125000  \\\\\n",
       "\\end{tabular}\n"
      ],
      "text/markdown": [
       "\n",
       "| fpr | tpr | cut |\n",
       "|---|---|---|\n",
       "| 0.000000000 | 0.0000000   |       Inf   |\n",
       "| 0.001435309 | 0.2691131   | 1.0000000   |\n",
       "| 0.001435309 | 0.2697248   | 0.9333333   |\n",
       "| 0.001435309 | 0.2709480   | 0.9285714   |\n",
       "| 0.001640353 | 0.2727829   | 0.9166667   |\n",
       "| 0.002050441 | 0.2770642   | 0.9090909   |\n",
       "| 0.002665573 | 0.2917431   | 0.9000000   |\n",
       "| 0.002665573 | 0.2923547   | 0.8666667   |\n",
       "| 0.003075661 | 0.2929664   | 0.8571429   |\n",
       "| 0.003075661 | 0.2941896   | 0.8461538   |\n",
       "| 0.003075661 | 0.2948012   | 0.8387097   |\n",
       "| 0.003075661 | 0.2960245   | 0.8333333   |\n",
       "| 0.003485749 | 0.2990826   | 0.8181818   |\n",
       "| 0.003485749 | 0.2996942   | 0.8148148   |\n",
       "| 0.003485749 | 0.3009174   | 0.8125000   |\n",
       "\n"
      ],
      "text/plain": [
       "   fpr         tpr       cut      \n",
       "1  0.000000000 0.0000000       Inf\n",
       "2  0.001435309 0.2691131 1.0000000\n",
       "3  0.001435309 0.2697248 0.9333333\n",
       "4  0.001435309 0.2709480 0.9285714\n",
       "5  0.001640353 0.2727829 0.9166667\n",
       "6  0.002050441 0.2770642 0.9090909\n",
       "7  0.002665573 0.2917431 0.9000000\n",
       "8  0.002665573 0.2923547 0.8666667\n",
       "9  0.003075661 0.2929664 0.8571429\n",
       "10 0.003075661 0.2941896 0.8461538\n",
       "11 0.003075661 0.2948012 0.8387097\n",
       "12 0.003075661 0.2960245 0.8333333\n",
       "13 0.003485749 0.2990826 0.8181818\n",
       "14 0.003485749 0.2996942 0.8148148\n",
       "15 0.003485749 0.3009174 0.8125000"
      ]
     },
     "metadata": {},
     "output_type": "display_data"
    }
   ],
   "source": [
    "pred_true <- ROCR::prediction(income_true_probs$` >50K`, test$income)\n",
    "perf_true <- ROCR::performance(pred_true, 'tpr', 'fpr')\n",
    "perf_true_df <- data.frame(perf_true@x.values, perf_true@y.values, perf_true@alpha.values)\n",
    "names(perf_true_df) <- c(\"fpr\", \"tpr\", \"cut\")\n",
    "perf_true_df %>% head(15)"
   ]
  },
  {
   "cell_type": "code",
   "execution_count": 8,
   "metadata": {},
   "outputs": [
    {
     "data": {
      "image/png": "[encoded data removed]",
      "text/plain": [
       "plot without title"
      ]
     },
     "metadata": {},
     "output_type": "display_data"
    }
   ],
   "source": [
    "roc_true <- perf_true_df %>% ggplot(aes(x = fpr, y = tpr, color = cut)) +\n",
    "  geom_line() + geom_abline(intercept = 0, slope = 1, lty = 3) +\n",
    "  ylab(perf_true@y.name) + xlab(perf_true@x.name) + ggtitle(\"Use.All = TRUE\")\n",
    "roc_true"
   ]
  },
  {
   "cell_type": "markdown",
   "metadata": {},
   "source": [
    "# Use.All = FALSE\n"
   ]
  },
  {
   "cell_type": "markdown",
   "metadata": {},
   "source": [
    "`knn` documentation on `use.all = FALSE`: \"If false, a random selection of distances equal to the kth is chosen to use exactly k neighbours.\""
   ]
  },
  {
   "cell_type": "markdown",
   "metadata": {},
   "source": [
    "Thus, only fractions in the form n/k will be present."
   ]
  },
  {
   "cell_type": "code",
   "execution_count": 9,
   "metadata": {},
   "outputs": [
    {
     "data": {
      "text/html": [
       "<table>\n",
       "<thead><tr><th scope=col> &gt;50K</th></tr></thead>\n",
       "<tbody>\n",
       "\t<tr><td>0.0</td></tr>\n",
       "\t<tr><td>0.3</td></tr>\n",
       "\t<tr><td>0.0</td></tr>\n",
       "\t<tr><td>0.0</td></tr>\n",
       "\t<tr><td>0.0</td></tr>\n",
       "\t<tr><td>0.0</td></tr>\n",
       "\t<tr><td>0.1</td></tr>\n",
       "\t<tr><td>0.3</td></tr>\n",
       "\t<tr><td>0.1</td></tr>\n",
       "\t<tr><td>0.1</td></tr>\n",
       "\t<tr><td>0.2</td></tr>\n",
       "\t<tr><td>0.2</td></tr>\n",
       "\t<tr><td>0.3</td></tr>\n",
       "\t<tr><td>0.0</td></tr>\n",
       "\t<tr><td>1.0</td></tr>\n",
       "</tbody>\n",
       "</table>\n"
      ],
      "text/latex": [
       "\\begin{tabular}{r|l}\n",
       "  >50K\\\\\n",
       "\\hline\n",
       "\t 0.0\\\\\n",
       "\t 0.3\\\\\n",
       "\t 0.0\\\\\n",
       "\t 0.0\\\\\n",
       "\t 0.0\\\\\n",
       "\t 0.0\\\\\n",
       "\t 0.1\\\\\n",
       "\t 0.3\\\\\n",
       "\t 0.1\\\\\n",
       "\t 0.1\\\\\n",
       "\t 0.2\\\\\n",
       "\t 0.2\\\\\n",
       "\t 0.3\\\\\n",
       "\t 0.0\\\\\n",
       "\t 1.0\\\\\n",
       "\\end{tabular}\n"
      ],
      "text/markdown": [
       "\n",
       "|  >50K |\n",
       "|---|\n",
       "| 0.0 |\n",
       "| 0.3 |\n",
       "| 0.0 |\n",
       "| 0.0 |\n",
       "| 0.0 |\n",
       "| 0.0 |\n",
       "| 0.1 |\n",
       "| 0.3 |\n",
       "| 0.1 |\n",
       "| 0.1 |\n",
       "| 0.2 |\n",
       "| 0.2 |\n",
       "| 0.3 |\n",
       "| 0.0 |\n",
       "| 1.0 |\n",
       "\n"
      ],
      "text/plain": [
       "    >50K\n",
       "1  0.0  \n",
       "2  0.3  \n",
       "3  0.0  \n",
       "4  0.0  \n",
       "5  0.0  \n",
       "6  0.0  \n",
       "7  0.1  \n",
       "8  0.3  \n",
       "9  0.1  \n",
       "10 0.1  \n",
       "11 0.2  \n",
       "12 0.2  \n",
       "13 0.3  \n",
       "14 0.0  \n",
       "15 1.0  "
      ]
     },
     "metadata": {},
     "output_type": "display_data"
    }
   ],
   "source": [
    "income_false <- knn(train_q, test = test_q, cl = train$income, k = 10, prob = TRUE, use.all = FALSE)\n",
    "\n",
    "income_false_probs <- matrix(nrow = length(income_false), ncol = 1)\n",
    "for(i in 1:length(income_false)) {\n",
    "  p = attr(income_false, 'prob')[i]\n",
    "  income_false_probs[i, 1] <- ifelse(income_false[i] == ' >50K', p, 1 - p)\n",
    "}\n",
    "income_false_probs <- income_false_probs %>% as.data.frame()\n",
    "names(income_false_probs) <- c(' >50K')\n",
    "\n",
    "income_false_probs %>% head(15)"
   ]
  },
  {
   "cell_type": "code",
   "execution_count": 10,
   "metadata": {},
   "outputs": [
    {
     "data": {
      "text/html": [
       "<table>\n",
       "<thead><tr><th scope=col>fpr</th><th scope=col>tpr</th><th scope=col>cut</th></tr></thead>\n",
       "<tbody>\n",
       "\t<tr><td>0.000000000</td><td>0.0000000  </td><td>Inf        </td></tr>\n",
       "\t<tr><td>0.001640353</td><td>0.2697248  </td><td>1.0        </td></tr>\n",
       "\t<tr><td>0.003485749</td><td>0.2990826  </td><td>0.9        </td></tr>\n",
       "\t<tr><td>0.008816896</td><td>0.3253823  </td><td>0.8        </td></tr>\n",
       "\t<tr><td>0.021324585</td><td>0.3718654  </td><td>0.7        </td></tr>\n",
       "\t<tr><td>0.042239081</td><td>0.4440367  </td><td>0.6        </td></tr>\n",
       "\t<tr><td>0.084888251</td><td>0.5467890  </td><td>0.5        </td></tr>\n",
       "\t<tr><td>0.151322534</td><td>0.6428135  </td><td>0.4        </td></tr>\n",
       "\t<tr><td>0.231084683</td><td>0.7370031  </td><td>0.3        </td></tr>\n",
       "\t<tr><td>0.358417060</td><td>0.8446483  </td><td>0.2        </td></tr>\n",
       "\t<tr><td>0.556899733</td><td>0.9418960  </td><td>0.1        </td></tr>\n",
       "\t<tr><td>1.000000000</td><td>1.0000000  </td><td>0.0        </td></tr>\n",
       "</tbody>\n",
       "</table>\n"
      ],
      "text/latex": [
       "\\begin{tabular}{r|lll}\n",
       " fpr & tpr & cut\\\\\n",
       "\\hline\n",
       "\t 0.000000000 & 0.0000000   & Inf        \\\\\n",
       "\t 0.001640353 & 0.2697248   & 1.0        \\\\\n",
       "\t 0.003485749 & 0.2990826   & 0.9        \\\\\n",
       "\t 0.008816896 & 0.3253823   & 0.8        \\\\\n",
       "\t 0.021324585 & 0.3718654   & 0.7        \\\\\n",
       "\t 0.042239081 & 0.4440367   & 0.6        \\\\\n",
       "\t 0.084888251 & 0.5467890   & 0.5        \\\\\n",
       "\t 0.151322534 & 0.6428135   & 0.4        \\\\\n",
       "\t 0.231084683 & 0.7370031   & 0.3        \\\\\n",
       "\t 0.358417060 & 0.8446483   & 0.2        \\\\\n",
       "\t 0.556899733 & 0.9418960   & 0.1        \\\\\n",
       "\t 1.000000000 & 1.0000000   & 0.0        \\\\\n",
       "\\end{tabular}\n"
      ],
      "text/markdown": [
       "\n",
       "| fpr | tpr | cut |\n",
       "|---|---|---|\n",
       "| 0.000000000 | 0.0000000   | Inf         |\n",
       "| 0.001640353 | 0.2697248   | 1.0         |\n",
       "| 0.003485749 | 0.2990826   | 0.9         |\n",
       "| 0.008816896 | 0.3253823   | 0.8         |\n",
       "| 0.021324585 | 0.3718654   | 0.7         |\n",
       "| 0.042239081 | 0.4440367   | 0.6         |\n",
       "| 0.084888251 | 0.5467890   | 0.5         |\n",
       "| 0.151322534 | 0.6428135   | 0.4         |\n",
       "| 0.231084683 | 0.7370031   | 0.3         |\n",
       "| 0.358417060 | 0.8446483   | 0.2         |\n",
       "| 0.556899733 | 0.9418960   | 0.1         |\n",
       "| 1.000000000 | 1.0000000   | 0.0         |\n",
       "\n"
      ],
      "text/plain": [
       "   fpr         tpr       cut\n",
       "1  0.000000000 0.0000000 Inf\n",
       "2  0.001640353 0.2697248 1.0\n",
       "3  0.003485749 0.2990826 0.9\n",
       "4  0.008816896 0.3253823 0.8\n",
       "5  0.021324585 0.3718654 0.7\n",
       "6  0.042239081 0.4440367 0.6\n",
       "7  0.084888251 0.5467890 0.5\n",
       "8  0.151322534 0.6428135 0.4\n",
       "9  0.231084683 0.7370031 0.3\n",
       "10 0.358417060 0.8446483 0.2\n",
       "11 0.556899733 0.9418960 0.1\n",
       "12 1.000000000 1.0000000 0.0"
      ]
     },
     "metadata": {},
     "output_type": "display_data"
    }
   ],
   "source": [
    "pred_false <- ROCR::prediction(income_false_probs$` >50K`, test$income)\n",
    "perf_false <- ROCR::performance(pred_false, 'tpr', 'fpr')\n",
    "perf_false_df <- data.frame(perf_false@x.values, perf_false@y.values, perf_false@alpha.values)\n",
    "names(perf_false_df) <- c(\"fpr\", \"tpr\", \"cut\")\n",
    "perf_false_df %>% head(15)"
   ]
  },
  {
   "cell_type": "code",
   "execution_count": 11,
   "metadata": {},
   "outputs": [
    {
     "data": {
      "image/png": "[encoded data removed]",
      "text/plain": [
       "plot without title"
      ]
     },
     "metadata": {},
     "output_type": "display_data"
    }
   ],
   "source": [
    "roc_false <- perf_false_df %>% ggplot(aes(x = fpr, y = tpr, color = cut)) +\n",
    "  geom_line() + geom_abline(intercept = 0, slope = 1, lty = 3) +\n",
    "  ylab(perf_false@y.name) + xlab(perf_false@x.name) + ggtitle(\"Use.All = FALSE\")\n",
    "roc_false"
   ]
  },
  {
   "cell_type": "markdown",
   "metadata": {},
   "source": [
    "# Graphing Both Models"
   ]
  },
  {
   "cell_type": "code",
   "execution_count": 12,
   "metadata": {},
   "outputs": [
    {
     "data": {
      "image/png": "[encoded data removed]",
      "text/plain": [
       "plot without title"
      ]
     },
     "metadata": {},
     "output_type": "display_data"
    }
   ],
   "source": [
    "grid.arrange(roc_true, roc_false)"
   ]
  },
  {
   "cell_type": "code",
   "execution_count": 13,
   "metadata": {
    "scrolled": false
   },
   "outputs": [
    {
     "data": {
      "image/png": "[encoded data removed]",
      "text/plain": [
       "plot without title"
      ]
     },
     "metadata": {},
     "output_type": "display_data"
    }
   ],
   "source": [
    "ggplot() + \n",
    "  geom_line(data = perf_true_df, aes(x = fpr, y = tpr), color = \"red\") + \n",
    "  geom_line(data = perf_false_df, aes(x = fpr, y = tpr), color = \"black\")"
   ]
  },
  {
   "cell_type": "markdown",
   "metadata": {},
   "source": [
    "Red = `use.all = TRUE`  \n",
    "Black = `use.all = FALSE`"
   ]
  }
 ],
 "metadata": {
  "kernelspec": {
   "display_name": "R",
   "language": "R",
   "name": "ir"
  },
  "language_info": {
   "codemirror_mode": "r",
   "file_extension": ".r",
   "mimetype": "text/x-r-source",
   "name": "R",
   "pygments_lexer": "r",
   "version": "3.6.1"
  }
 },
 "nbformat": 4,
 "nbformat_minor": 4
}
